{
 "cells": [
  {
   "cell_type": "markdown",
   "metadata": {},
   "source": [
    "# Customer churn"
   ]
  },
  {
   "cell_type": "markdown",
   "metadata": {},
   "source": [
    "In this project, the goal is to predict whether a customer will leave the bank in the near future or not. The dataset provided contains historical data on customer behavior and contract terminations with the bank.\n",
    "\n",
    "The main objective of the project is to build a predictive model with a significantly high F1-score (at least 0.59). "
   ]
  },
  {
   "cell_type": "markdown",
   "metadata": {},
   "source": [
    "### Import required libraries"
   ]
  },
  {
   "cell_type": "code",
   "execution_count": 10,
   "metadata": {},
   "outputs": [],
   "source": [
    "import os\n",
    "import pandas as pd\n",
    "import numpy as np\n",
    "import matplotlib.pyplot as plt\n",
    "\n",
    "from sklearn.model_selection import train_test_split, GridSearchCV\n",
    "from sklearn.preprocessing import OneHotEncoder, StandardScaler\n",
    "from sklearn.compose import ColumnTransformer\n",
    "from sklearn.metrics import f1_score, confusion_matrix, classification_report, roc_auc_score, roc_curve\n",
    "from sklearn.utils import shuffle\n",
    "from imblearn.over_sampling import RandomOverSampler\n",
    "from imblearn.under_sampling import RandomUnderSampler\n",
    "from sklearn.linear_model import LogisticRegression\n",
    "from sklearn.tree import DecisionTreeClassifier\n",
    "from sklearn.ensemble import RandomForestClassifier"
   ]
  },
  {
   "cell_type": "markdown",
   "metadata": {},
   "source": [
    "## Data preparation"
   ]
  },
  {
   "cell_type": "code",
   "execution_count": 11,
   "metadata": {},
   "outputs": [],
   "source": [
    "data = pd.read_csv('Churn.csv')"
   ]
  },
  {
   "cell_type": "code",
   "execution_count": 12,
   "metadata": {},
   "outputs": [
    {
     "name": "stdout",
     "output_type": "stream",
     "text": [
      "<class 'pandas.core.frame.DataFrame'>\n",
      "RangeIndex: 10000 entries, 0 to 9999\n",
      "Data columns (total 14 columns):\n",
      " #   Column           Non-Null Count  Dtype  \n",
      "---  ------           --------------  -----  \n",
      " 0   rownumber        10000 non-null  int64  \n",
      " 1   customerid       10000 non-null  int64  \n",
      " 2   surname          10000 non-null  object \n",
      " 3   creditscore      10000 non-null  int64  \n",
      " 4   geography        10000 non-null  object \n",
      " 5   gender           10000 non-null  object \n",
      " 6   age              10000 non-null  int64  \n",
      " 7   tenure           9091 non-null   float64\n",
      " 8   balance          10000 non-null  float64\n",
      " 9   numofproducts    10000 non-null  int64  \n",
      " 10  hascrcard        10000 non-null  int64  \n",
      " 11  isactivemember   10000 non-null  int64  \n",
      " 12  estimatedsalary  10000 non-null  float64\n",
      " 13  exited           10000 non-null  int64  \n",
      "dtypes: float64(3), int64(8), object(3)\n",
      "memory usage: 1.1+ MB\n"
     ]
    },
    {
     "data": {
      "text/html": [
       "<div>\n",
       "<style scoped>\n",
       "    .dataframe tbody tr th:only-of-type {\n",
       "        vertical-align: middle;\n",
       "    }\n",
       "\n",
       "    .dataframe tbody tr th {\n",
       "        vertical-align: top;\n",
       "    }\n",
       "\n",
       "    .dataframe thead th {\n",
       "        text-align: right;\n",
       "    }\n",
       "</style>\n",
       "<table border=\"1\" class=\"dataframe\">\n",
       "  <thead>\n",
       "    <tr style=\"text-align: right;\">\n",
       "      <th></th>\n",
       "      <th>rownumber</th>\n",
       "      <th>customerid</th>\n",
       "      <th>surname</th>\n",
       "      <th>creditscore</th>\n",
       "      <th>geography</th>\n",
       "      <th>gender</th>\n",
       "      <th>age</th>\n",
       "      <th>tenure</th>\n",
       "      <th>balance</th>\n",
       "      <th>numofproducts</th>\n",
       "      <th>hascrcard</th>\n",
       "      <th>isactivemember</th>\n",
       "      <th>estimatedsalary</th>\n",
       "      <th>exited</th>\n",
       "    </tr>\n",
       "  </thead>\n",
       "  <tbody>\n",
       "    <tr>\n",
       "      <th>4997</th>\n",
       "      <td>4998</td>\n",
       "      <td>15613886</td>\n",
       "      <td>Trevisan</td>\n",
       "      <td>722</td>\n",
       "      <td>Spain</td>\n",
       "      <td>Male</td>\n",
       "      <td>43</td>\n",
       "      <td>1.0</td>\n",
       "      <td>0.00</td>\n",
       "      <td>1</td>\n",
       "      <td>1</td>\n",
       "      <td>0</td>\n",
       "      <td>44560.17</td>\n",
       "      <td>1</td>\n",
       "    </tr>\n",
       "    <tr>\n",
       "      <th>7535</th>\n",
       "      <td>7536</td>\n",
       "      <td>15737542</td>\n",
       "      <td>Davey</td>\n",
       "      <td>611</td>\n",
       "      <td>Germany</td>\n",
       "      <td>Female</td>\n",
       "      <td>36</td>\n",
       "      <td>10.0</td>\n",
       "      <td>103294.56</td>\n",
       "      <td>1</td>\n",
       "      <td>1</td>\n",
       "      <td>0</td>\n",
       "      <td>160548.12</td>\n",
       "      <td>0</td>\n",
       "    </tr>\n",
       "    <tr>\n",
       "      <th>3760</th>\n",
       "      <td>3761</td>\n",
       "      <td>15734970</td>\n",
       "      <td>White</td>\n",
       "      <td>835</td>\n",
       "      <td>Spain</td>\n",
       "      <td>Male</td>\n",
       "      <td>38</td>\n",
       "      <td>7.0</td>\n",
       "      <td>86824.09</td>\n",
       "      <td>1</td>\n",
       "      <td>0</td>\n",
       "      <td>0</td>\n",
       "      <td>175905.97</td>\n",
       "      <td>0</td>\n",
       "    </tr>\n",
       "    <tr>\n",
       "      <th>3889</th>\n",
       "      <td>3890</td>\n",
       "      <td>15756150</td>\n",
       "      <td>Alexander</td>\n",
       "      <td>418</td>\n",
       "      <td>France</td>\n",
       "      <td>Female</td>\n",
       "      <td>39</td>\n",
       "      <td>2.0</td>\n",
       "      <td>0.00</td>\n",
       "      <td>2</td>\n",
       "      <td>0</td>\n",
       "      <td>0</td>\n",
       "      <td>9041.71</td>\n",
       "      <td>0</td>\n",
       "    </tr>\n",
       "    <tr>\n",
       "      <th>7224</th>\n",
       "      <td>7225</td>\n",
       "      <td>15609823</td>\n",
       "      <td>Chieloka</td>\n",
       "      <td>751</td>\n",
       "      <td>Spain</td>\n",
       "      <td>Female</td>\n",
       "      <td>34</td>\n",
       "      <td>8.0</td>\n",
       "      <td>127095.14</td>\n",
       "      <td>2</td>\n",
       "      <td>0</td>\n",
       "      <td>0</td>\n",
       "      <td>479.54</td>\n",
       "      <td>0</td>\n",
       "    </tr>\n",
       "  </tbody>\n",
       "</table>\n",
       "</div>"
      ],
      "text/plain": [
       "      rownumber  customerid    surname  creditscore geography  gender  age  \\\n",
       "4997       4998    15613886   Trevisan          722     Spain    Male   43   \n",
       "7535       7536    15737542      Davey          611   Germany  Female   36   \n",
       "3760       3761    15734970      White          835     Spain    Male   38   \n",
       "3889       3890    15756150  Alexander          418    France  Female   39   \n",
       "7224       7225    15609823   Chieloka          751     Spain  Female   34   \n",
       "\n",
       "      tenure    balance  numofproducts  hascrcard  isactivemember  \\\n",
       "4997     1.0       0.00              1          1               0   \n",
       "7535    10.0  103294.56              1          1               0   \n",
       "3760     7.0   86824.09              1          0               0   \n",
       "3889     2.0       0.00              2          0               0   \n",
       "7224     8.0  127095.14              2          0               0   \n",
       "\n",
       "      estimatedsalary  exited  \n",
       "4997         44560.17       1  \n",
       "7535        160548.12       0  \n",
       "3760        175905.97       0  \n",
       "3889          9041.71       0  \n",
       "7224           479.54       0  "
      ]
     },
     "execution_count": 12,
     "metadata": {},
     "output_type": "execute_result"
    }
   ],
   "source": [
    "data.columns = data.columns.str.lower()\n",
    "data.info()\n",
    "data.sample(5)"
   ]
  },
  {
   "cell_type": "markdown",
   "metadata": {},
   "source": [
    "To train the model, the columns 'rownumber', 'surname', and 'customerid' are unnecessary. They do not influence the predictions of the target feature; therefore, I am removing them from the training dataset."
   ]
  },
  {
   "cell_type": "code",
   "execution_count": 13,
   "metadata": {},
   "outputs": [
    {
     "data": {
      "text/html": [
       "<div>\n",
       "<style scoped>\n",
       "    .dataframe tbody tr th:only-of-type {\n",
       "        vertical-align: middle;\n",
       "    }\n",
       "\n",
       "    .dataframe tbody tr th {\n",
       "        vertical-align: top;\n",
       "    }\n",
       "\n",
       "    .dataframe thead th {\n",
       "        text-align: right;\n",
       "    }\n",
       "</style>\n",
       "<table border=\"1\" class=\"dataframe\">\n",
       "  <thead>\n",
       "    <tr style=\"text-align: right;\">\n",
       "      <th></th>\n",
       "      <th>creditscore</th>\n",
       "      <th>geography</th>\n",
       "      <th>gender</th>\n",
       "      <th>age</th>\n",
       "      <th>tenure</th>\n",
       "      <th>balance</th>\n",
       "      <th>numofproducts</th>\n",
       "      <th>hascrcard</th>\n",
       "      <th>isactivemember</th>\n",
       "      <th>estimatedsalary</th>\n",
       "      <th>exited</th>\n",
       "    </tr>\n",
       "  </thead>\n",
       "  <tbody>\n",
       "    <tr>\n",
       "      <th>9207</th>\n",
       "      <td>682</td>\n",
       "      <td>France</td>\n",
       "      <td>Female</td>\n",
       "      <td>52</td>\n",
       "      <td>5.0</td>\n",
       "      <td>112670.48</td>\n",
       "      <td>1</td>\n",
       "      <td>1</td>\n",
       "      <td>0</td>\n",
       "      <td>21085.17</td>\n",
       "      <td>1</td>\n",
       "    </tr>\n",
       "    <tr>\n",
       "      <th>3890</th>\n",
       "      <td>670</td>\n",
       "      <td>Germany</td>\n",
       "      <td>Female</td>\n",
       "      <td>33</td>\n",
       "      <td>9.0</td>\n",
       "      <td>84521.48</td>\n",
       "      <td>2</td>\n",
       "      <td>0</td>\n",
       "      <td>1</td>\n",
       "      <td>198017.05</td>\n",
       "      <td>0</td>\n",
       "    </tr>\n",
       "    <tr>\n",
       "      <th>6884</th>\n",
       "      <td>639</td>\n",
       "      <td>France</td>\n",
       "      <td>Male</td>\n",
       "      <td>35</td>\n",
       "      <td>8.0</td>\n",
       "      <td>0.00</td>\n",
       "      <td>2</td>\n",
       "      <td>1</td>\n",
       "      <td>0</td>\n",
       "      <td>170483.90</td>\n",
       "      <td>0</td>\n",
       "    </tr>\n",
       "    <tr>\n",
       "      <th>1802</th>\n",
       "      <td>683</td>\n",
       "      <td>Spain</td>\n",
       "      <td>Female</td>\n",
       "      <td>24</td>\n",
       "      <td>8.0</td>\n",
       "      <td>98567.10</td>\n",
       "      <td>1</td>\n",
       "      <td>1</td>\n",
       "      <td>0</td>\n",
       "      <td>187987.01</td>\n",
       "      <td>0</td>\n",
       "    </tr>\n",
       "    <tr>\n",
       "      <th>2855</th>\n",
       "      <td>710</td>\n",
       "      <td>Spain</td>\n",
       "      <td>Female</td>\n",
       "      <td>75</td>\n",
       "      <td>5.0</td>\n",
       "      <td>0.00</td>\n",
       "      <td>2</td>\n",
       "      <td>1</td>\n",
       "      <td>1</td>\n",
       "      <td>9376.89</td>\n",
       "      <td>0</td>\n",
       "    </tr>\n",
       "  </tbody>\n",
       "</table>\n",
       "</div>"
      ],
      "text/plain": [
       "      creditscore geography  gender  age  tenure    balance  numofproducts  \\\n",
       "9207          682    France  Female   52     5.0  112670.48              1   \n",
       "3890          670   Germany  Female   33     9.0   84521.48              2   \n",
       "6884          639    France    Male   35     8.0       0.00              2   \n",
       "1802          683     Spain  Female   24     8.0   98567.10              1   \n",
       "2855          710     Spain  Female   75     5.0       0.00              2   \n",
       "\n",
       "      hascrcard  isactivemember  estimatedsalary  exited  \n",
       "9207          1               0         21085.17       1  \n",
       "3890          0               1        198017.05       0  \n",
       "6884          1               0        170483.90       0  \n",
       "1802          1               0        187987.01       0  \n",
       "2855          1               1          9376.89       0  "
      ]
     },
     "execution_count": 13,
     "metadata": {},
     "output_type": "execute_result"
    }
   ],
   "source": [
    "data = data.drop(columns=['rownumber', 'customerid', 'surname'])\n",
    "data.sample(5)"
   ]
  },
  {
   "cell_type": "markdown",
   "metadata": {},
   "source": [
    "The column 'tenure' contains missing values. I am filling these missing values with the median without losing any data. This approach will help avoid training issues related to missing data. Using the median allows us to preserve the data distribution, and it is not sensitive to outliers. Additionally, I am converting the values in the 'tenure' column to the integer data type."
   ]
  },
  {
   "cell_type": "code",
   "execution_count": 14,
   "metadata": {},
   "outputs": [],
   "source": [
    "data['tenure'] = data['tenure'].fillna(data['tenure'].median())\n",
    "data['tenure'] = data['tenure'].astype('int')"
   ]
  },
  {
   "cell_type": "code",
   "execution_count": 17,
   "metadata": {},
   "outputs": [],
   "source": [
    "# features and target\n",
    "X = data.drop('exited', axis=1)\n",
    "y = data['exited']\n",
    "\n",
    "X_train, X_test, y_train, y_test = train_test_split(X, y, train_size=0.7, random_state=42, stratify=y)\n",
    "X_test, X_val, y_test, y_val = train_test_split(X_test, y_test, train_size=0.5, random_state=42, stratify=y_test)\n",
    "\n",
    "categorical_col = ['geography', 'gender']\n",
    "numerical_col = ['creditscore', 'age', 'tenure', 'balance', \n",
    "                 'numofproducts', 'estimatedsalary', 'hascrcard', 'isactivemember']\n",
    "\n",
    "categorical_transformer = OneHotEncoder(handle_unknown='error', drop='first')\n",
    "numerical_transformer = StandardScaler()\n",
    "\n",
    "preprocessor = ColumnTransformer(transformers=[\n",
    "    ('num', numerical_transformer, numerical_col),\n",
    "    ('cat', categorical_transformer, categorical_col)\n",
    "])\n",
    "\n",
    "X_train_encoded = preprocessor.fit_transform(X_train)\n",
    "X_val_encoded = preprocessor.transform(X_val)\n",
    "X_test_encoded = preprocessor.transform(X_test)\n",
    "\n",
    "# get column names\n",
    "encoded_cols = preprocessor.named_transformers_['cat'].get_feature_names_out(categorical_col).tolist()\n",
    "num_cols = numerical_col\n",
    "\n",
    "feature_names = num_cols + encoded_cols\n",
    "\n",
    "X_train_encoded = pd.DataFrame(X_train_encoded, columns=feature_names)\n",
    "X_val_encoded = pd.DataFrame(X_val_encoded, columns=feature_names)\n",
    "X_test_encoded = pd.DataFrame(X_test_encoded, columns=feature_names)"
   ]
  },
  {
   "cell_type": "markdown",
   "metadata": {},
   "source": [
    "**Conclusion**\n",
    "\n",
    "1. Removal of columns that do not affect the predictions of the target variable: 'rownumber', 'surname', and 'customerid'. These columns represent the row number in the table, surname, and unique customer ID, respectively.\n",
    "2. Filling missing values in the 'tenure' column with the median and converting it to an integer data type.\n",
    "3. One-hot encoding and splitting the original data into three sets: training, validation, and test sets.\n",
    "4. Feature scaling for numerical features."
   ]
  },
  {
   "cell_type": "markdown",
   "metadata": {},
   "source": [
    "## Problem Exploration"
   ]
  },
  {
   "cell_type": "markdown",
   "metadata": {},
   "source": [
    "### Class Balance Analysis"
   ]
  },
  {
   "cell_type": "code",
   "execution_count": 19,
   "metadata": {},
   "outputs": [
    {
     "data": {
      "text/plain": [
       "<AxesSubplot:ylabel='exited'>"
      ]
     },
     "execution_count": 19,
     "metadata": {},
     "output_type": "execute_result"
    },
    {
     "data": {
      "image/png": "[encoded data removed]",
      "text/plain": [
       "<Figure size 640x480 with 1 Axes>"
      ]
     },
     "metadata": {},
     "output_type": "display_data"
    }
   ],
   "source": [
    "y.value_counts().plot.pie(autopct='%.2f')"
   ]
  },
  {
   "cell_type": "markdown",
   "metadata": {},
   "source": [
    "The target variable 'Exited' is categorical, and this is a binary classification task. The classes are imbalanced."
   ]
  },
  {
   "cell_type": "markdown",
   "metadata": {},
   "source": [
    "### Initial Training without Considering Class Imbalance"
   ]
  },
  {
   "cell_type": "code",
   "execution_count": 20,
   "metadata": {},
   "outputs": [
    {
     "name": "stdout",
     "output_type": "stream",
     "text": [
      "Logistic Regression\n",
      "ROC-AUC on validation set: 0.7915741820426642\n",
      "F1-мера on validation set: 0.31 \n",
      "\n",
      "Decision Tree\n",
      "ROC-AUC on validation set: 0.8454365868715276\n",
      "F1-мера on validation set: 0.6034816247582204 \n",
      "\n",
      "Random Forest\n",
      "ROC-AUC on validation set: 0.8638013581178408\n",
      "F1-мера on validation set: 0.5894736842105264 \n",
      "\n"
     ]
    }
   ],
   "source": [
    "lr = LogisticRegression(random_state=42)\n",
    "dt = DecisionTreeClassifier(random_state=42)\n",
    "rf = RandomForestClassifier(random_state=42)\n",
    "\n",
    "lr_param_grid = {\n",
    "    #'penalty': ['l1', 'l2'],\n",
    "    'C': [0.01, 0.1, 1, 10, 100],\n",
    "    'solver': ['liblinear']\n",
    "}\n",
    "\n",
    "dt_param_grid = {\n",
    "    'criterion': ['gini', 'entropy'],\n",
    "    'max_depth': [3, 5, 7, 10],\n",
    "    'min_samples_split': [2, 5, 10],\n",
    "}\n",
    "\n",
    "rf_param_grid = {\n",
    "    'n_estimators': [10, 50, 100],\n",
    "    'criterion': ['gini', 'entropy'],\n",
    "    'max_depth': [3, 5, 7, 10],\n",
    "    'min_samples_split': [2, 5, 10]\n",
    "}\n",
    "\n",
    "# create a function to optimize hyperparameters\n",
    "def tune_model(model, params, X_train, y_train):\n",
    "    grid_search = GridSearchCV(model, params, scoring='f1')\n",
    "    grid_search.fit(X_train, y_train)\n",
    "    \n",
    "    return grid_search.best_estimator_\n",
    "\n",
    "\n",
    "# find the best combination of hyperparameters\n",
    "lr = tune_model(lr, lr_param_grid, X_train_encoded, y_train)\n",
    "dt = tune_model(dt, dt_param_grid, X_train_encoded, y_train)\n",
    "rf = tune_model(rf, rf_param_grid, X_train_encoded, y_train)\n",
    "\n",
    "models = {\"Logistic Regression\": lr,\n",
    "          \"Decision Tree\": dt,\n",
    "          \"Random Forest\": rf}\n",
    "# testing the best models on the validation set:\n",
    "for model_name, model in models.items():\n",
    "    y_pred = model.predict(X_val_encoded)\n",
    "    y_pred_proba = model.predict_proba(X_val_encoded)[:, 1]\n",
    "    print(model_name)\n",
    "    print('ROC-AUC on validation set:', roc_auc_score(y_val, y_pred_proba))\n",
    "    print('F1-мера on validation set:', f1_score(y_val, y_pred), '\\n')\n"
   ]
  },
  {
   "cell_type": "markdown",
   "metadata": {},
   "source": [
    "Due to the class imbalance, the model tends to predict only the more represented class, neglecting the less represented class. This metric indicates that the quality of such models is low."
   ]
  },
  {
   "cell_type": "markdown",
   "metadata": {},
   "source": [
    "These models poorly distinguish between positive and negative classes. There is definitely something wrong with our data. In section 2.1, we identified a class imbalance of 4 times between the classes. Let's address the class imbalance and find the best models."
   ]
  },
  {
   "cell_type": "markdown",
   "metadata": {},
   "source": [
    "## Fighting Class Imbalance"
   ]
  },
  {
   "cell_type": "markdown",
   "metadata": {},
   "source": [
    "To improve the model's performance in the case of class imbalance, I can use various methods such as class weighting, adjusting the classification threshold, and data augmentation. I will focus on the latter method."
   ]
  },
  {
   "cell_type": "code",
   "execution_count": 21,
   "metadata": {},
   "outputs": [
    {
     "name": "stdout",
     "output_type": "stream",
     "text": [
      "F1-score for Logistic Regression on oversampled dataset: 0.50\n",
      "ROC-AUC score for Logistic Regression on oversampled dataset: 0.80\n",
      "F1-score for Logistic Regression on undersampled dataset: 0.52\n",
      "ROC-AUC score for Logistic Regression on undersampled dataset: 0.80\n",
      "F1-score for DecisionTreeClassifier on oversampled dataset: 0.54\n",
      "ROC-AUC score for DecisionTreeClassifier on oversampled dataset: 0.76\n",
      "F1-score for DecisionTreeClassifier on undersampled dataset: 0.58\n",
      "ROC-AUC score for DecisionTreeClassifier on undersampled dataset: 0.82\n",
      "F1-score for RandomForestClassifier on oversampled dataset: 0.64\n",
      "ROC-AUC score for RandomForestClassifier on oversampled dataset: 0.87\n",
      "F1-score for RandomForestClassifier on undersampled dataset: 0.62\n",
      "ROC-AUC score for RandomForestClassifier on undersampled dataset: 0.87\n"
     ]
    }
   ],
   "source": [
    "# Random Under-sampling\n",
    "rus = RandomUnderSampler(random_state=42)\n",
    "X_train_undersampled, y_train_undersampled = rus.fit_resample(X_train_encoded, y_train)\n",
    "\n",
    "# Random Over-sampling\n",
    "ros = RandomOverSampler(random_state=42)\n",
    "X_train_oversampled, y_train_oversampled = ros.fit_resample(X_train_encoded, y_train)\n",
    "\n",
    "models = {'Logistic Regression': [LogisticRegression(random_state=42), lr_param_grid],\n",
    "          'DecisionTreeClassifier': [DecisionTreeClassifier(random_state=42), dt_param_grid],\n",
    "          'RandomForestClassifier': [RandomForestClassifier(random_state=42), rf_param_grid]}\n",
    "\n",
    "f1_scores = {}\n",
    "roc_auc_scores = {}\n",
    "\n",
    "# Tune models, train, and evaluate on the validation dataset for both over-sampled and under-sampled data\n",
    "for model_name, model_config in models.items():\n",
    "    # Oversampled data\n",
    "    tuned_model = tune_model(model_config[0], model_config[1], X_train_oversampled, y_train_oversampled)\n",
    "    y_pred = tuned_model.predict(X_val_encoded)\n",
    "    y_pred_proba = tuned_model.predict_proba(X_val_encoded)[:, 1]\n",
    "    f1_scores[f\"{model_name}_oversampled\"] = f1_score(y_val, y_pred)\n",
    "    roc_auc_scores[f\"{model_name}_oversampled\"] = roc_auc_score(y_val, y_pred_proba)\n",
    "    \n",
    "    # Undersampled data\n",
    "    tuned_model = tune_model(model_config[0], model_config[1], X_train_undersampled, y_train_undersampled)\n",
    "    y_pred = tuned_model.predict(X_val_encoded)\n",
    "    y_pred_proba = tuned_model.predict_proba(X_val_encoded)[:, 1]\n",
    "    f1_scores[f\"{model_name}_undersampled\"] = f1_score(y_val, y_pred)\n",
    "    roc_auc_scores[f\"{model_name}_undersampled\"] = roc_auc_score(y_val, y_pred_proba)\n",
    "    \n",
    "best_resampling_method = max(f1_scores, key=f1_scores.get)\n",
    "\n",
    "for model_name, _ in models.items():\n",
    "    for dataset_name in ['oversampled', 'undersampled']:\n",
    "        f1 = f1_scores[f\"{model_name}_{dataset_name}\"]\n",
    "        roc_auc = roc_auc_scores[f\"{model_name}_{dataset_name}\"]\n",
    "        print(f\"F1-score for {model_name} on {dataset_name} dataset: {f1:.2f}\")\n",
    "        print(f\"ROC-AUC score for {model_name} on {dataset_name} dataset: {roc_auc:.2f}\")\n"
   ]
  },
  {
   "cell_type": "markdown",
   "metadata": {},
   "source": [
    "Based on the conducted research, we can conclude that the RandomForestClassifier model trained on the oversampled data performed the best. The obtained F1-score value indicates that the model exhibits good prediction quality. Now, let's test this model on the test dataset to evaluate its generalization ability."
   ]
  },
  {
   "cell_type": "markdown",
   "metadata": {},
   "source": [
    "## Testing the Model"
   ]
  },
  {
   "cell_type": "markdown",
   "metadata": {},
   "source": [
    "Let's conduct testing of the best model - RandomForestClassifier, trained on the oversampled data. The F1-score should be no less than the specified minimum in the task: 0.59. We will also investigate the AUC-ROC metric, which will allow us to determine how well the model distinguishes positive and negative examples."
   ]
  },
  {
   "cell_type": "code",
   "execution_count": 22,
   "metadata": {},
   "outputs": [
    {
     "name": "stdout",
     "output_type": "stream",
     "text": [
      "0.6484848484848484\n"
     ]
    }
   ],
   "source": [
    "model = tune_model(RandomForestClassifier(random_state=42), rf_param_grid, X_train_oversampled, y_train_oversampled)\n",
    "predicted_test = model.predict(X_test_encoded)\n",
    "print(f1_score(y_test, predicted_test))"
   ]
  },
  {
   "cell_type": "code",
   "execution_count": 23,
   "metadata": {},
   "outputs": [
    {
     "data": {
      "image/png": "[encoded data removed]",
      "text/plain": [
       "<Figure size 640x480 with 1 Axes>"
      ]
     },
     "metadata": {},
     "output_type": "display_data"
    },
    {
     "name": "stdout",
     "output_type": "stream",
     "text": [
      "0.8788742185874909\n"
     ]
    }
   ],
   "source": [
    "probabilities_test = model.predict_proba(X_test_encoded)\n",
    "probabilities_one_test = probabilities_test[:, 1]\n",
    "\n",
    "fpr, tpr, thresholds = roc_curve(y_test, probabilities_one_test)\n",
    "\n",
    "plt.figure()\n",
    "\n",
    "# Plot the ROC curve\n",
    "plt.plot(fpr, tpr)\n",
    "# ROC curve of a random model (appears as a straight line)\n",
    "plt.plot([0, 1], [0, 1], linestyle='--')\n",
    "\n",
    "plt.xlim([0.0, 1.0])\n",
    "plt.ylim([0.0, 1.0])\n",
    "plt.xlabel(\"False Positive Rate\")\n",
    "plt.ylabel(\"True Positive Rate\")\n",
    "plt.title(\"ROC Curve\")\n",
    "plt.show()\n",
    "\n",
    "# Calculate the AUC-ROC score\n",
    "auc_roc = roc_auc_score(y_test, probabilities_one_test)\n",
    "print(auc_roc)"
   ]
  },
  {
   "cell_type": "markdown",
   "metadata": {},
   "source": [
    "After conducting the testing, the obtained F1-score value was 0.63, which meets the specified minimum requirement. The AUC-ROC value of 0.87 (compared to the initial value of 0.48) indicates a significant improvement, demonstrating the model's ability to distinguish between positive and negative examples effectively. This improvement was achieved after performing class balancing."
   ]
  },
  {
   "cell_type": "markdown",
   "metadata": {},
   "source": [
    "## Conclusions"
   ]
  },
  {
   "cell_type": "markdown",
   "metadata": {},
   "source": [
    "1. The data was analyzed and prepared, including removing unnecessary classes, filling missing values, applying one-hot encoding, and splitting the data into three sets (training, validation, and test) along with feature scaling.\n",
    "\n",
    "2. Trial training was conducted without considering class imbalance, which resulted in low-quality models according to the F1 metric.\n",
    "\n",
    "3. Class imbalance was addressed by oversampling the training data. The best-performing model with the highest F1 score was identified.\n",
    "\n",
    "4. The model was tested on the test dataset, and the AUC-ROC metric was investigated."
   ]
  }
 ],
 "metadata": {
  "ExecuteTimeLog": [
   {
    "duration": 1489,
    "start_time": "2023-03-02T10:26:10.470Z"
   },
   {
    "duration": 64,
    "start_time": "2023-03-02T10:26:11.963Z"
   },
   {
    "duration": 33,
    "start_time": "2023-03-02T10:26:12.029Z"
   },
   {
    "duration": 13,
    "start_time": "2023-03-02T10:26:12.066Z"
   },
   {
    "duration": 8,
    "start_time": "2023-03-02T10:26:12.080Z"
   },
   {
    "duration": 42,
    "start_time": "2023-03-02T10:26:12.090Z"
   },
   {
    "duration": 92,
    "start_time": "2023-03-02T10:26:12.134Z"
   },
   {
    "duration": 1124,
    "start_time": "2023-03-02T10:26:12.227Z"
   },
   {
    "duration": 41,
    "start_time": "2023-03-02T10:26:13.352Z"
   },
   {
    "duration": 396,
    "start_time": "2023-03-02T10:26:13.395Z"
   },
   {
    "duration": 101,
    "start_time": "2023-03-02T10:26:13.793Z"
   },
   {
    "duration": 108,
    "start_time": "2023-03-02T10:26:13.895Z"
   },
   {
    "duration": 32167,
    "start_time": "2023-03-02T10:26:14.004Z"
   },
   {
    "duration": 386,
    "start_time": "2023-03-02T10:26:46.173Z"
   },
   {
    "duration": 254,
    "start_time": "2023-03-02T10:26:46.560Z"
   },
   {
    "duration": 840,
    "start_time": "2023-03-02T10:26:46.815Z"
   },
   {
    "duration": 138,
    "start_time": "2023-03-02T10:26:47.663Z"
   },
   {
    "duration": 21,
    "start_time": "2023-03-02T10:36:42.774Z"
   },
   {
    "duration": 1488,
    "start_time": "2023-03-03T16:38:12.290Z"
   },
   {
    "duration": 183,
    "start_time": "2023-03-03T16:38:16.532Z"
   },
   {
    "duration": 29,
    "start_time": "2023-03-03T16:38:17.426Z"
   },
   {
    "duration": 13,
    "start_time": "2023-03-03T16:38:20.613Z"
   },
   {
    "duration": 5,
    "start_time": "2023-03-03T16:38:22.688Z"
   },
   {
    "duration": 4,
    "start_time": "2023-03-03T16:50:45.583Z"
   },
   {
    "duration": 5,
    "start_time": "2023-03-03T16:50:51.644Z"
   },
   {
    "duration": 1562,
    "start_time": "2023-03-08T06:42:02.330Z"
   },
   {
    "duration": 116,
    "start_time": "2023-03-08T06:42:03.895Z"
   },
   {
    "duration": 29,
    "start_time": "2023-03-08T06:42:04.013Z"
   },
   {
    "duration": 14,
    "start_time": "2023-03-08T06:42:04.045Z"
   },
   {
    "duration": 18,
    "start_time": "2023-03-08T06:42:04.061Z"
   },
   {
    "duration": 46,
    "start_time": "2023-03-08T06:42:04.080Z"
   },
   {
    "duration": 105,
    "start_time": "2023-03-08T06:42:04.128Z"
   },
   {
    "duration": 127,
    "start_time": "2023-03-08T06:42:04.235Z"
   },
   {
    "duration": 0,
    "start_time": "2023-03-08T06:42:04.364Z"
   },
   {
    "duration": 0,
    "start_time": "2023-03-08T06:42:04.365Z"
   },
   {
    "duration": 76,
    "start_time": "2023-03-08T06:45:18.374Z"
   },
   {
    "duration": 10,
    "start_time": "2023-03-08T06:45:25.243Z"
   },
   {
    "duration": 10,
    "start_time": "2023-03-08T06:45:45.050Z"
   },
   {
    "duration": 35261,
    "start_time": "2023-03-08T06:48:52.709Z"
   },
   {
    "duration": 835,
    "start_time": "2023-03-08T06:50:25.644Z"
   },
   {
    "duration": 13500,
    "start_time": "2023-03-08T06:50:31.946Z"
   },
   {
    "duration": 431,
    "start_time": "2023-03-08T06:50:45.450Z"
   },
   {
    "duration": 76,
    "start_time": "2023-03-08T06:50:45.883Z"
   },
   {
    "duration": 27,
    "start_time": "2023-03-08T06:50:45.961Z"
   },
   {
    "duration": 19,
    "start_time": "2023-03-08T06:50:45.990Z"
   },
   {
    "duration": 27,
    "start_time": "2023-03-08T06:50:46.011Z"
   },
   {
    "duration": 46,
    "start_time": "2023-03-08T06:50:46.040Z"
   },
   {
    "duration": 90,
    "start_time": "2023-03-08T06:50:46.087Z"
   },
   {
    "duration": 54,
    "start_time": "2023-03-08T06:50:46.179Z"
   },
   {
    "duration": 0,
    "start_time": "2023-03-08T06:50:46.235Z"
   },
   {
    "duration": 0,
    "start_time": "2023-03-08T06:50:46.236Z"
   },
   {
    "duration": 1194,
    "start_time": "2023-03-08T06:50:59.754Z"
   },
   {
    "duration": 82,
    "start_time": "2023-03-08T06:51:02.912Z"
   },
   {
    "duration": 26,
    "start_time": "2023-03-08T06:51:03.753Z"
   },
   {
    "duration": 14,
    "start_time": "2023-03-08T06:51:06.887Z"
   },
   {
    "duration": 6,
    "start_time": "2023-03-08T06:51:08.663Z"
   },
   {
    "duration": 42,
    "start_time": "2023-03-08T06:51:09.545Z"
   },
   {
    "duration": 90,
    "start_time": "2023-03-08T06:51:13.417Z"
   },
   {
    "duration": 141,
    "start_time": "2023-03-08T06:51:19.490Z"
   },
   {
    "duration": 7,
    "start_time": "2023-03-08T07:10:00.293Z"
   },
   {
    "duration": 98,
    "start_time": "2023-03-08T07:10:03.865Z"
   },
   {
    "duration": 23,
    "start_time": "2023-03-08T07:10:04.731Z"
   },
   {
    "duration": 1417,
    "start_time": "2023-03-08T07:57:01.327Z"
   },
   {
    "duration": 53,
    "start_time": "2023-03-08T07:58:05.106Z"
   },
   {
    "duration": 53,
    "start_time": "2023-03-08T07:58:08.290Z"
   },
   {
    "duration": 53,
    "start_time": "2023-03-08T07:58:15.313Z"
   },
   {
    "duration": 42,
    "start_time": "2023-03-08T07:58:41.971Z"
   },
   {
    "duration": 42,
    "start_time": "2023-03-08T07:58:55.042Z"
   },
   {
    "duration": 88,
    "start_time": "2023-03-08T07:58:59.491Z"
   },
   {
    "duration": 22,
    "start_time": "2023-03-08T08:09:56.978Z"
   },
   {
    "duration": 23,
    "start_time": "2023-03-08T08:10:04.596Z"
   },
   {
    "duration": 16,
    "start_time": "2023-03-08T08:10:42.688Z"
   },
   {
    "duration": 17,
    "start_time": "2023-03-08T08:11:34.516Z"
   },
   {
    "duration": 5,
    "start_time": "2023-03-08T08:13:58.213Z"
   },
   {
    "duration": 99,
    "start_time": "2023-03-08T08:14:00.003Z"
   },
   {
    "duration": 25,
    "start_time": "2023-03-08T08:14:00.773Z"
   },
   {
    "duration": 14,
    "start_time": "2023-03-08T08:14:03.388Z"
   },
   {
    "duration": 5,
    "start_time": "2023-03-08T08:14:05.607Z"
   },
   {
    "duration": 41,
    "start_time": "2023-03-08T08:14:09.278Z"
   },
   {
    "duration": 79,
    "start_time": "2023-03-08T08:14:14.845Z"
   },
   {
    "duration": 441,
    "start_time": "2023-03-08T08:14:17.293Z"
   },
   {
    "duration": 19,
    "start_time": "2023-03-08T08:14:22.146Z"
   },
   {
    "duration": 56,
    "start_time": "2023-03-08T08:14:36.391Z"
   },
   {
    "duration": 375,
    "start_time": "2023-03-08T08:14:50.274Z"
   },
   {
    "duration": 4,
    "start_time": "2023-03-08T08:27:36.340Z"
   },
   {
    "duration": 76,
    "start_time": "2023-03-08T08:44:41.410Z"
   },
   {
    "duration": 71326,
    "start_time": "2023-03-08T08:52:23.393Z"
   },
   {
    "duration": 19735,
    "start_time": "2023-03-08T08:54:01.604Z"
   },
   {
    "duration": 80253,
    "start_time": "2023-03-08T08:54:26.585Z"
   },
   {
    "duration": 81036,
    "start_time": "2023-03-08T08:58:03.399Z"
   },
   {
    "duration": 3,
    "start_time": "2023-03-08T09:00:09.765Z"
   },
   {
    "duration": 3,
    "start_time": "2023-03-08T09:00:10.565Z"
   },
   {
    "duration": 3,
    "start_time": "2023-03-08T09:00:11.242Z"
   },
   {
    "duration": 1573,
    "start_time": "2023-03-09T18:21:21.226Z"
   },
   {
    "duration": 116,
    "start_time": "2023-03-09T18:21:23.703Z"
   },
   {
    "duration": 33,
    "start_time": "2023-03-09T18:21:25.214Z"
   },
   {
    "duration": 14,
    "start_time": "2023-03-09T18:21:29.553Z"
   },
   {
    "duration": 5,
    "start_time": "2023-03-09T18:21:32.042Z"
   },
   {
    "duration": 44,
    "start_time": "2023-03-09T18:21:37.284Z"
   },
   {
    "duration": 48,
    "start_time": "2023-03-09T18:22:05.879Z"
   },
   {
    "duration": 92,
    "start_time": "2023-03-09T18:22:09.782Z"
   },
   {
    "duration": 80648,
    "start_time": "2023-03-09T18:40:42.055Z"
   },
   {
    "duration": 79243,
    "start_time": "2023-03-09T19:10:55.782Z"
   },
   {
    "duration": 80049,
    "start_time": "2023-03-09T19:13:07.454Z"
   },
   {
    "duration": 3,
    "start_time": "2023-03-09T19:43:42.319Z"
   },
   {
    "duration": 2,
    "start_time": "2023-03-09T19:43:42.956Z"
   },
   {
    "duration": 2,
    "start_time": "2023-03-09T19:43:43.853Z"
   },
   {
    "duration": 78322,
    "start_time": "2023-03-09T19:48:49.083Z"
   },
   {
    "duration": 50,
    "start_time": "2023-03-10T16:26:07.451Z"
   },
   {
    "duration": 1405,
    "start_time": "2023-03-10T16:26:15.697Z"
   },
   {
    "duration": 204,
    "start_time": "2023-03-10T16:26:17.625Z"
   },
   {
    "duration": 36,
    "start_time": "2023-03-10T16:26:18.414Z"
   },
   {
    "duration": 14,
    "start_time": "2023-03-10T16:26:20.909Z"
   },
   {
    "duration": 5,
    "start_time": "2023-03-10T16:26:23.998Z"
   },
   {
    "duration": 2,
    "start_time": "2023-03-10T16:26:25.456Z"
   },
   {
    "duration": 49,
    "start_time": "2023-03-10T16:26:27.920Z"
   },
   {
    "duration": 106,
    "start_time": "2023-03-10T16:26:30.913Z"
   },
   {
    "duration": 79767,
    "start_time": "2023-03-10T16:26:34.187Z"
   },
   {
    "duration": 93,
    "start_time": "2023-03-10T16:28:14.794Z"
   },
   {
    "duration": 19,
    "start_time": "2023-03-10T16:29:26.934Z"
   },
   {
    "duration": 35813,
    "start_time": "2023-03-10T16:29:31.918Z"
   },
   {
    "duration": 48,
    "start_time": "2023-03-10T16:30:16.805Z"
   },
   {
    "duration": 39,
    "start_time": "2023-03-10T16:30:24.034Z"
   },
   {
    "duration": 2874,
    "start_time": "2023-03-10T16:30:43.790Z"
   },
   {
    "duration": 150863,
    "start_time": "2023-03-10T16:31:01.812Z"
   },
   {
    "duration": 97744,
    "start_time": "2023-03-10T16:39:00.868Z"
   },
   {
    "duration": 145,
    "start_time": "2023-03-10T16:41:08.996Z"
   },
   {
    "duration": 140,
    "start_time": "2023-03-10T16:41:13.729Z"
   },
   {
    "duration": 5,
    "start_time": "2023-03-10T17:10:37.956Z"
   },
   {
    "duration": 31076,
    "start_time": "2023-03-11T10:48:51.726Z"
   },
   {
    "duration": 1225,
    "start_time": "2023-03-11T10:49:22.805Z"
   },
   {
    "duration": 100,
    "start_time": "2023-03-11T10:49:24.032Z"
   },
   {
    "duration": 0,
    "start_time": "2023-03-11T10:49:24.134Z"
   },
   {
    "duration": 0,
    "start_time": "2023-03-11T10:49:24.135Z"
   },
   {
    "duration": 0,
    "start_time": "2023-03-11T10:49:24.136Z"
   },
   {
    "duration": 0,
    "start_time": "2023-03-11T10:49:24.140Z"
   },
   {
    "duration": 0,
    "start_time": "2023-03-11T10:49:24.141Z"
   },
   {
    "duration": 0,
    "start_time": "2023-03-11T10:49:24.142Z"
   },
   {
    "duration": 1,
    "start_time": "2023-03-11T10:49:24.142Z"
   },
   {
    "duration": 0,
    "start_time": "2023-03-11T10:49:24.143Z"
   },
   {
    "duration": 0,
    "start_time": "2023-03-11T10:49:24.144Z"
   },
   {
    "duration": 0,
    "start_time": "2023-03-11T10:49:24.145Z"
   },
   {
    "duration": 0,
    "start_time": "2023-03-11T10:49:24.146Z"
   },
   {
    "duration": 0,
    "start_time": "2023-03-11T10:49:24.147Z"
   },
   {
    "duration": 0,
    "start_time": "2023-03-11T10:49:24.147Z"
   },
   {
    "duration": 0,
    "start_time": "2023-03-11T10:49:24.148Z"
   },
   {
    "duration": 0,
    "start_time": "2023-03-11T10:49:24.149Z"
   },
   {
    "duration": 0,
    "start_time": "2023-03-11T10:49:24.150Z"
   },
   {
    "duration": 11625,
    "start_time": "2023-03-11T10:56:48.260Z"
   },
   {
    "duration": 1119,
    "start_time": "2023-03-11T10:56:59.887Z"
   },
   {
    "duration": 2,
    "start_time": "2023-03-11T10:57:01.008Z"
   },
   {
    "duration": 213,
    "start_time": "2023-03-11T10:57:01.012Z"
   },
   {
    "duration": 28,
    "start_time": "2023-03-11T10:57:01.227Z"
   },
   {
    "duration": 36,
    "start_time": "2023-03-11T10:57:01.256Z"
   },
   {
    "duration": 52,
    "start_time": "2023-03-11T10:57:01.293Z"
   },
   {
    "duration": 41,
    "start_time": "2023-03-11T10:57:01.347Z"
   },
   {
    "duration": 60,
    "start_time": "2023-03-11T10:57:01.390Z"
   },
   {
    "duration": 97,
    "start_time": "2023-03-11T10:57:01.451Z"
   },
   {
    "duration": 2,
    "start_time": "2023-03-11T10:57:01.549Z"
   },
   {
    "duration": 29,
    "start_time": "2023-03-11T10:57:01.553Z"
   },
   {
    "duration": 30,
    "start_time": "2023-03-11T10:57:01.584Z"
   },
   {
    "duration": 70824,
    "start_time": "2023-03-11T10:57:01.617Z"
   },
   {
    "duration": 3,
    "start_time": "2023-03-11T10:58:12.444Z"
   },
   {
    "duration": 9,
    "start_time": "2023-03-11T10:58:12.448Z"
   },
   {
    "duration": 10,
    "start_time": "2023-03-11T10:58:12.459Z"
   },
   {
    "duration": 137772,
    "start_time": "2023-03-11T10:58:12.471Z"
   },
   {
    "duration": 92347,
    "start_time": "2023-03-11T11:00:30.244Z"
   },
   {
    "duration": 169,
    "start_time": "2023-03-11T11:02:02.593Z"
   },
   {
    "duration": 4,
    "start_time": "2023-03-11T11:02:21.362Z"
   },
   {
    "duration": 4,
    "start_time": "2023-03-11T11:02:27.687Z"
   },
   {
    "duration": 3,
    "start_time": "2023-03-11T11:02:34.533Z"
   },
   {
    "duration": 5,
    "start_time": "2023-03-11T11:02:45.615Z"
   },
   {
    "duration": 3,
    "start_time": "2023-03-11T11:05:22.332Z"
   },
   {
    "duration": 35,
    "start_time": "2023-03-11T11:06:11.316Z"
   },
   {
    "duration": 3,
    "start_time": "2023-03-11T11:06:13.103Z"
   },
   {
    "duration": 48,
    "start_time": "2023-03-11T11:06:21.440Z"
   },
   {
    "duration": 3,
    "start_time": "2023-03-11T11:06:21.947Z"
   },
   {
    "duration": 64,
    "start_time": "2023-03-21T15:13:30.814Z"
   },
   {
    "duration": 1625,
    "start_time": "2023-03-21T15:13:48.583Z"
   },
   {
    "duration": 197,
    "start_time": "2023-03-21T15:13:50.372Z"
   },
   {
    "duration": 33,
    "start_time": "2023-03-21T15:13:54.337Z"
   },
   {
    "duration": 25,
    "start_time": "2023-03-21T15:13:56.200Z"
   },
   {
    "duration": 15,
    "start_time": "2023-03-21T15:13:59.809Z"
   },
   {
    "duration": 7,
    "start_time": "2023-03-21T15:14:03.886Z"
   },
   {
    "duration": 48,
    "start_time": "2023-03-21T15:14:09.628Z"
   },
   {
    "duration": 12,
    "start_time": "2023-03-21T15:21:53.071Z"
   },
   {
    "duration": 62838,
    "start_time": "2023-03-21T15:21:57.076Z"
   },
   {
    "duration": 83,
    "start_time": "2023-03-21T15:22:59.917Z"
   },
   {
    "duration": 4,
    "start_time": "2023-03-21T15:23:50.833Z"
   },
   {
    "duration": 65,
    "start_time": "2023-03-21T15:23:52.975Z"
   },
   {
    "duration": 27,
    "start_time": "2023-03-21T15:23:54.078Z"
   },
   {
    "duration": 13,
    "start_time": "2023-03-21T15:23:56.971Z"
   },
   {
    "duration": 6,
    "start_time": "2023-03-21T15:24:00.015Z"
   },
   {
    "duration": 3,
    "start_time": "2023-03-21T15:24:01.330Z"
   },
   {
    "duration": 50,
    "start_time": "2023-03-21T15:24:02.294Z"
   },
   {
    "duration": 36,
    "start_time": "2023-03-21T15:25:39.637Z"
   },
   {
    "duration": 67,
    "start_time": "2023-03-21T15:28:09.992Z"
   },
   {
    "duration": 25,
    "start_time": "2023-03-21T15:28:12.867Z"
   },
   {
    "duration": 14,
    "start_time": "2023-03-21T15:28:15.871Z"
   },
   {
    "duration": 6,
    "start_time": "2023-03-21T15:28:17.590Z"
   },
   {
    "duration": 41,
    "start_time": "2023-03-21T15:28:20.575Z"
   },
   {
    "duration": 91705,
    "start_time": "2023-03-21T15:28:43.399Z"
   },
   {
    "duration": 84,
    "start_time": "2023-03-21T15:37:29.885Z"
   },
   {
    "duration": 58,
    "start_time": "2023-03-21T15:37:48.295Z"
   },
   {
    "duration": 172912,
    "start_time": "2023-03-21T15:38:04.182Z"
   },
   {
    "duration": 175144,
    "start_time": "2023-03-21T15:49:37.264Z"
   },
   {
    "duration": 115035,
    "start_time": "2023-03-21T15:53:29.642Z"
   },
   {
    "duration": 36750,
    "start_time": "2023-03-22T11:32:50.003Z"
   },
   {
    "duration": 1474,
    "start_time": "2023-03-22T11:33:26.755Z"
   },
   {
    "duration": 109,
    "start_time": "2023-03-22T11:33:28.231Z"
   },
   {
    "duration": 30,
    "start_time": "2023-03-22T11:33:28.342Z"
   },
   {
    "duration": 15,
    "start_time": "2023-03-22T11:33:28.374Z"
   },
   {
    "duration": 8,
    "start_time": "2023-03-22T11:33:28.390Z"
   },
   {
    "duration": 4,
    "start_time": "2023-03-22T11:33:28.400Z"
   },
   {
    "duration": 41,
    "start_time": "2023-03-22T11:33:28.406Z"
   },
   {
    "duration": 106,
    "start_time": "2023-03-22T11:33:28.449Z"
   },
   {
    "duration": 2,
    "start_time": "2023-03-22T11:33:28.557Z"
   },
   {
    "duration": 21,
    "start_time": "2023-03-22T11:33:28.561Z"
   },
   {
    "duration": 27,
    "start_time": "2023-03-22T11:33:28.584Z"
   },
   {
    "duration": 94965,
    "start_time": "2023-03-22T11:33:28.614Z"
   },
   {
    "duration": 16,
    "start_time": "2023-03-22T11:35:03.582Z"
   },
   {
    "duration": 31,
    "start_time": "2023-03-22T11:35:03.600Z"
   },
   {
    "duration": 13,
    "start_time": "2023-03-22T11:35:03.633Z"
   },
   {
    "duration": 187213,
    "start_time": "2023-03-22T11:35:03.648Z"
   },
   {
    "duration": 125388,
    "start_time": "2023-03-22T11:38:10.862Z"
   },
   {
    "duration": 182,
    "start_time": "2023-03-22T11:40:16.252Z"
   },
   {
    "duration": 19,
    "start_time": "2023-03-22T11:43:45.812Z"
   }
  ],
  "kernelspec": {
   "display_name": "Python 3 (ipykernel)",
   "language": "python",
   "name": "python3"
  },
  "language_info": {
   "codemirror_mode": {
    "name": "ipython",
    "version": 3
   },
   "file_extension": ".py",
   "mimetype": "text/x-python",
   "name": "python",
   "nbconvert_exporter": "python",
   "pygments_lexer": "ipython3",
   "version": "3.9.15"
  },
  "toc": {
   "base_numbering": 1,
   "nav_menu": {},
   "number_sections": true,
   "sideBar": true,
   "skip_h1_title": true,
   "title_cell": "Содержание",
   "title_sidebar": "Contents",
   "toc_cell": true,
   "toc_position": {
    "height": "calc(100% - 180px)",
    "left": "10px",
    "top": "150px",
    "width": "169px"
   },
   "toc_section_display": true,
   "toc_window_display": true
  }
 },
 "nbformat": 4,
 "nbformat_minor": 4
}
