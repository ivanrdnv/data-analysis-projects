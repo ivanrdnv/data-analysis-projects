{
 "cells": [
  {
   "cell_type": "markdown",
   "metadata": {},
   "source": [
    "# Well Site Selection"
   ]
  },
  {
   "cell_type": "markdown",
   "metadata": {},
   "source": [
    "I am provided with oil samples from three regions, each containing 10,000 well sites where the quality and volume of oil reserves have been measured. My task is to build a machine learning model to determine the region that will yield the highest profit for oil extraction. I will also analyze the potential profits and risks using the Bootstrap technique.\n",
    "\n",
    "Steps for well site selection:\n",
    "\n",
    "* Explore well sites in each region and determine their feature values.\n",
    "* Build a model to estimate the oil reserves' volume.\n",
    "* Select well sites with the highest estimated values. The number of selected well sites depends on the company's budget and the cost of developing one well.\n",
    "* Profit is calculated as the total revenue from the selected well sites."
   ]
  },
  {
   "cell_type": "code",
   "execution_count": 5,
   "metadata": {},
   "outputs": [],
   "source": [
    "import pandas as pd\n",
    "import numpy as np\n",
    "import seaborn as sns \n",
    "import matplotlib.pyplot as plt\n",
    "\n",
    "from sklearn.model_selection import train_test_split\n",
    "from sklearn.linear_model import LinearRegression\n",
    "from sklearn.metrics import mean_squared_error, r2_score\n",
    "from sklearn.preprocessing import StandardScaler "
   ]
  },
  {
   "cell_type": "markdown",
   "metadata": {},
   "source": [
    "## Data Loading and Preparation"
   ]
  },
  {
   "cell_type": "markdown",
   "metadata": {},
   "source": [
    "Data Description:\n",
    "The data for geological exploration in three regions is available in files.\n",
    "1. ```/datasets/geo_data_0.csv```\n",
    "2. ```/datasets/geo_data_1.csv```\n",
    "3. ```/datasets/geo_data_2.csv```\n",
    "\n",
    "* id: Unique identifier of the well.\n",
    "* f0, f1, f2: Three features of the data points (the specific meaning is not crucial, but the features themselves are significant).\n",
    "* product: The volume of reserves in the well (thousands of barrels)."
   ]
  },
  {
   "cell_type": "code",
   "execution_count": 6,
   "metadata": {},
   "outputs": [],
   "source": [
    "data_0 = pd.read_csv('datasets/geo_data_0.csv')\n",
    "data_1 = pd.read_csv('datasets/geo_data_1.csv')\n",
    "data_2 = pd.read_csv('datasets/geo_data_2.csv')"
   ]
  },
  {
   "cell_type": "code",
   "execution_count": 7,
   "metadata": {},
   "outputs": [
    {
     "name": "stdout",
     "output_type": "stream",
     "text": [
      "          id        f0        f1        f2     product\n",
      "51196  KNAJF  0.599324 -0.363104  1.203074  107.085472\n",
      "61897  Ldywd -0.580259  0.696568  2.956222  121.622203\n",
      "3874   Mvmqu -0.103226  0.823179  1.870074  104.435941\n",
      "77638  TNM3Q -0.000311  0.389455  1.088986  182.502135\n",
      "5802   Gd9RU  0.134454  0.039185  1.426593   54.350554 \n",
      "\n",
      "<class 'pandas.core.frame.DataFrame'>\n",
      "RangeIndex: 100000 entries, 0 to 99999\n",
      "Data columns (total 5 columns):\n",
      " #   Column   Non-Null Count   Dtype  \n",
      "---  ------   --------------   -----  \n",
      " 0   id       100000 non-null  object \n",
      " 1   f0       100000 non-null  float64\n",
      " 2   f1       100000 non-null  float64\n",
      " 3   f2       100000 non-null  float64\n",
      " 4   product  100000 non-null  float64\n",
      "dtypes: float64(4), object(1)\n",
      "memory usage: 3.8+ MB\n",
      "None \n",
      "\n",
      "\n",
      "          id         f0         f1        f2     product\n",
      "17104  zBALc   7.538871   0.336118  4.001468  107.813044\n",
      "39746  s9bwE   3.986198  -9.379561 -0.002930    0.000000\n",
      "11745  26i0o -13.194396 -10.383622  3.997096  110.992147\n",
      "40205  iCF0Z  11.053035   0.562641  2.005054   53.906522\n",
      "88412  XCNur -10.562300  -3.747473  4.995909  137.945408 \n",
      "\n",
      "<class 'pandas.core.frame.DataFrame'>\n",
      "RangeIndex: 100000 entries, 0 to 99999\n",
      "Data columns (total 5 columns):\n",
      " #   Column   Non-Null Count   Dtype  \n",
      "---  ------   --------------   -----  \n",
      " 0   id       100000 non-null  object \n",
      " 1   f0       100000 non-null  float64\n",
      " 2   f1       100000 non-null  float64\n",
      " 3   f2       100000 non-null  float64\n",
      " 4   product  100000 non-null  float64\n",
      "dtypes: float64(4), object(1)\n",
      "memory usage: 3.8+ MB\n",
      "None \n",
      "\n",
      "\n",
      "          id        f0        f1        f2     product\n",
      "45325  6MvC7 -0.369470  0.471140  7.109536  133.655811\n",
      "68775  DjpRM  0.452568  0.772344 -4.631380    0.451256\n",
      "46408  OO35W -1.776543  0.948880  2.355812  110.463757\n",
      "66302  X9sAC -0.242345 -2.552419  0.077063  135.637871\n",
      "41179  Wp5kO -1.058245 -0.938807  5.537480  138.865899 \n",
      "\n",
      "<class 'pandas.core.frame.DataFrame'>\n",
      "RangeIndex: 100000 entries, 0 to 99999\n",
      "Data columns (total 5 columns):\n",
      " #   Column   Non-Null Count   Dtype  \n",
      "---  ------   --------------   -----  \n",
      " 0   id       100000 non-null  object \n",
      " 1   f0       100000 non-null  float64\n",
      " 2   f1       100000 non-null  float64\n",
      " 3   f2       100000 non-null  float64\n",
      " 4   product  100000 non-null  float64\n",
      "dtypes: float64(4), object(1)\n",
      "memory usage: 3.8+ MB\n",
      "None \n",
      "\n",
      "\n"
     ]
    }
   ],
   "source": [
    "for data in [data_0, data_1, data_2]:\n",
    "    print(data.sample(5), '\\n')\n",
    "    print(data.info(), '\\n\\n')"
   ]
  },
  {
   "cell_type": "markdown",
   "metadata": {},
   "source": [
    "After analyzing the data, we can conclude that this dataset does not contain any missing values, inconsistencies, or other anomalies. All the data appears to be complete, accurate, and ready for further analysis or modeling."
   ]
  },
  {
   "cell_type": "markdown",
   "metadata": {},
   "source": [
    "We have a dataset where the goal is to predict the volume of reserves in new wells, which is represented by the target feature - \"product.\" We have three features of the data points - \"f0,\" \"f1,\" and \"f2,\" and a unique well identifier - \"id,\" which does not influence the reserves' volume and can be removed from the dataset."
   ]
  },
  {
   "cell_type": "code",
   "execution_count": 8,
   "metadata": {},
   "outputs": [],
   "source": [
    "data_0 = data_0.drop('id', axis=1)\n",
    "data_1 = data_1.drop('id', axis=1)\n",
    "data_2 = data_2.drop('id', axis=1)"
   ]
  },
  {
   "cell_type": "markdown",
   "metadata": {},
   "source": [
    "## Model Training and Validation"
   ]
  },
  {
   "cell_type": "code",
   "execution_count": 11,
   "metadata": {},
   "outputs": [
    {
     "name": "stdout",
     "output_type": "stream",
     "text": [
      "First Data Set:\n",
      "Mean Predicted Oil Reserves: 92.40 RMSE of the Model: 37.76\n",
      "Second Data Set:\n",
      "Mean Predicted Oil Reserves: 68.71 RMSE of the Model: 0.89\n",
      "Third Data Set:\n",
      "Mean Predicted Oil Reserves: 94.77 RMSE of the Model: 40.15\n"
     ]
    }
   ],
   "source": [
    "def linear_regression_model(data):\n",
    "    # features and target \n",
    "    X = data.drop('product', axis=1)\n",
    "    y = data['product']\n",
    "    \n",
    "    X_train, X_valid, y_train, y_valid = train_test_split(X, y, train_size=0.75, random_state=42)\n",
    "    \n",
    "    model = LinearRegression()\n",
    "    model.fit(X_train, y_train)\n",
    "    y_pred = model.predict(X_valid)\n",
    "    r2 = r2_score(y_valid, y_pred)\n",
    "    rmse = np.sqrt(mean_squared_error(y_valid, y_pred))\n",
    "    \n",
    "    return rmse, y_pred, pd.DataFrame({'target': y_valid.tolist(), 'preds': pd.Series(y_pred, index=y_valid.index)}) \n",
    "\n",
    "print('First Data Set:')\n",
    "rmse_0, y_pred_0, table_0 = linear_regression_model(data_0)\n",
    "print(f'Mean Predicted Oil Reserves: {y_pred_0.mean():.2f}', f'RMSE of the Model: {rmse_0:.2f}')\n",
    "print('Second Data Set:')\n",
    "rmse_1, y_pred_1, table_1 = linear_regression_model(data_1)\n",
    "print(f'Mean Predicted Oil Reserves: {y_pred_1.mean():.2f}', f'RMSE of the Model: {rmse_1:.2f}')\n",
    "print('Third Data Set:')\n",
    "rmse_2, y_pred_2, table_2 = linear_regression_model(data_2)\n",
    "print(f'Mean Predicted Oil Reserves: {y_pred_2.mean():.2f}', f'RMSE of the Model: {rmse_2:.2f}')\n"
   ]
  },
  {
   "cell_type": "code",
   "execution_count": 12,
   "metadata": {},
   "outputs": [
    {
     "name": "stdout",
     "output_type": "stream",
     "text": [
      "Sufficient Volume of Crude Oil for Break-Even Development of a New Well: 111.11\n",
      "92.50000000000001\n",
      "68.82500000000002\n",
      "95.00000000000004\n"
     ]
    }
   ],
   "source": [
    "# Well Development Budget in the Region\n",
    "DEV_BUDGET = 10 * 1e9\n",
    "\n",
    "# Number of Top Explored Points\n",
    "SELECTED_POINTS = 200\n",
    "\n",
    "# Price per 1000 Barrels of Crude Oil\n",
    "PRODUCT_PRICE = 450 * 1000\n",
    "\n",
    "# Number of Samples for Bootstrap\n",
    "BOOTSTRAP_SAMPLES = 1000 \n",
    "\n",
    "well_expenses = DEV_BUDGET / SELECTED_POINTS\n",
    "\n",
    "# Create the Profit Formula: \n",
    "# profit = volume_product * PRODUCT_PRICE - well_expenses\n",
    "# profit + well_expenses = volume_product * PRODUCT_PRICE\n",
    "# volume_product = (profit + well_expenses) / PRODUCT_PRICE\n",
    "# To find the breakeven point, we set profit to 0, indicating no profit or loss.\n",
    "# The formula for finding the breakeven point is as follows:\n",
    "break_even_volume = well_expenses / PRODUCT_PRICE\n",
    "\n",
    "print(f'Sufficient Volume of Crude Oil for Break-Even Development of a New Well: {break_even_volume:.2f}')\n",
    "print(data_0['product'].mean())\n",
    "print(data_1['product'].mean())\n",
    "print(data_2['product'].mean())"
   ]
  },
  {
   "cell_type": "markdown",
   "metadata": {},
   "source": [
    "The obtained result indicates that the sufficient volume of crude oil for break-even development of a new well is 111.11 thousand barrels. However, the average reserves in each region are lower than this breakeven point, indicating the presence of unprofitable wells. There are particularly many such unprofitable wells in the second region, where the average reserve is 68.83 thousand barrels."
   ]
  },
  {
   "cell_type": "markdown",
   "metadata": {},
   "source": [
    "## Calculation of Profit and Risks"
   ]
  },
  {
   "cell_type": "markdown",
   "metadata": {},
   "source": [
    "Let's write a function to calculate the profit based on selected wells and model predictions:"
   ]
  },
  {
   "cell_type": "code",
   "execution_count": 13,
   "metadata": {},
   "outputs": [],
   "source": [
    "def profit(table):\n",
    "    total_volume = table.sort_values(by='preds', ascending=False)[:200]['target'].sum()\n",
    "    profit = total_volume * PRODUCT_PRICE - DEV_BUDGET\n",
    "    return profit "
   ]
  },
  {
   "cell_type": "markdown",
   "metadata": {},
   "source": [
    "Let's apply the Bootstrap technique with 1000 samples to find the profit distribution. We will then calculate the average profit, the 95% confidence interval, and the risk of losses (a loss is a negative profit)."
   ]
  },
  {
   "cell_type": "code",
   "execution_count": 14,
   "metadata": {},
   "outputs": [],
   "source": [
    "state = np.random.RandomState(42)\n",
    "\n",
    "def boostrap(sample, Nboot, statfun):\n",
    "\n",
    "    resampled_stat = []\n",
    "    for k in range(Nboot):\n",
    "        sub_sample = sample.sample(n=500, replace=True, random_state=state)\n",
    "        resampled_stat.append(statfun(sub_sample))\n",
    "        \n",
    "    return pd.Series(resampled_stat)"
   ]
  },
  {
   "cell_type": "code",
   "execution_count": 17,
   "metadata": {},
   "outputs": [
    {
     "data": {
      "image/png": "[encoded data removed]",
      "text/plain": [
       "<Figure size 1000x600 with 1 Axes>"
      ]
     },
     "metadata": {},
     "output_type": "display_data"
    }
   ],
   "source": [
    "mean_profits = []\n",
    "conf_intervals = []\n",
    "loss_probabilities = []\n",
    "\n",
    "for table in [table_0, table_1, table_2]:\n",
    "    profits = boostrap(table, BOOTSTRAP_SAMPLES, profit)\n",
    "\n",
    "    # Calculate mean profit\n",
    "    mean_profit = profits.mean()\n",
    "    mean_profits.append(mean_profit)\n",
    "\n",
    "    # Calculate 95% confidence interval\n",
    "    conf_lower, conf_upper = np.percentile(profits, [2.5, 97.5])\n",
    "    conf_intervals.append([mean_profit - conf_lower, conf_upper - mean_profit])\n",
    "    \n",
    "    # Calculate loss probability\n",
    "    loss_probability = (profits < 0).sum() / BOOTSTRAP_SAMPLES\n",
    "    loss_probabilities.append(loss_probability)\n",
    "\n",
    "# Convert lists to arrays\n",
    "mean_profits = np.array(mean_profits)\n",
    "conf_intervals = np.array(conf_intervals).T\n",
    "loss_probabilities = np.array(loss_probabilities)\n",
    "\n",
    "# x axis labels\n",
    "labels = ['Region 1', 'Region 2', 'Region 3']\n",
    "\n",
    "# Create the plot\n",
    "fig = plt.figure(figsize=(10, 6))\n",
    "ax = fig.add_subplot(111)\n",
    "\n",
    "# Add labels for mean profit and loss probability \n",
    "for i, label in enumerate(labels):\n",
    "    ax.bar(label, mean_profits[i], yerr=conf_intervals[:,i:i+1], align='center', alpha=0.5, ecolor='black', capsize=10)\n",
    "    ax.text(i, mean_profits[i]+20, f'{mean_profits[i]:.1f}\\n({loss_probabilities[i]*100:.1f}%)', ha='center')\n",
    "\n",
    "ax.set_ylabel('Profit, billion rubles')\n",
    "ax.set_title('Comparison of Profits by Regions')\n",
    "ax.yaxis.grid(True)\n",
    "\n",
    "plt.show()\n"
   ]
  },
  {
   "cell_type": "markdown",
   "metadata": {},
   "source": [
    "Based on the conducted analysis, it is recommended to choose the second region for the development of new wells. This region shows the most promising indicators: the probability of losses is only 1.2%, which is lower than the acceptable threshold of 2.5%, and the average profit is significantly higher than in the other two regions. Therefore, selecting the second region for the development of new wells appears to be the most rational choice."
   ]
  },
  {
   "cell_type": "markdown",
   "metadata": {},
   "source": [
    "## Project Conclusion\n",
    "\n",
    "In this project, I have achieved the following:\n",
    "\n",
    "* Calculated the average predicted oil reserves and the error size for each region.\n",
    "* Determined the sufficient volume of crude oil required for a break-even development of a new well.\n",
    "* Developed a function for profit calculation.\n",
    "* Utilized functions to streamline repetitive tasks.\n",
    "* Applied the Bootstrap technique to calculate risks, profits, and confidence intervals for each region.\n",
    "\n",
    "Based on the analysis conducted, I recommend selecting the second region for the development of new wells. This region demonstrates the most promising indicators, with a minimal 1.2% probability of losses, below the acceptable threshold of 2.5%. Additionally, the average profit in the second region significantly surpasses the other two regions. "
   ]
  },
  {
   "cell_type": "code",
   "execution_count": null,
   "metadata": {},
   "outputs": [],
   "source": []
  }
 ],
 "metadata": {
  "ExecuteTimeLog": [
   {
    "duration": 82,
    "start_time": "2023-04-15T12:08:18.077Z"
   },
   {
    "duration": 419,
    "start_time": "2023-04-15T12:08:20.828Z"
   },
   {
    "duration": 929,
    "start_time": "2023-04-15T12:08:22.469Z"
   },
   {
    "duration": 28,
    "start_time": "2023-04-15T12:09:02.065Z"
   },
   {
    "duration": 388,
    "start_time": "2023-04-15T12:09:05.709Z"
   },
   {
    "duration": 21,
    "start_time": "2023-04-15T12:09:06.833Z"
   },
   {
    "duration": 14,
    "start_time": "2023-04-15T12:09:13.553Z"
   },
   {
    "duration": 11,
    "start_time": "2023-04-15T12:09:21.512Z"
   },
   {
    "duration": 12,
    "start_time": "2023-04-15T12:09:26.802Z"
   },
   {
    "duration": 15,
    "start_time": "2023-04-15T12:13:12.003Z"
   },
   {
    "duration": 16,
    "start_time": "2023-04-15T12:13:20.168Z"
   },
   {
    "duration": 17,
    "start_time": "2023-04-15T12:13:23.519Z"
   },
   {
    "duration": 414,
    "start_time": "2023-04-15T12:18:02.307Z"
   },
   {
    "duration": 62,
    "start_time": "2023-04-15T12:26:19.021Z"
   },
   {
    "duration": 735,
    "start_time": "2023-04-15T12:26:26.507Z"
   },
   {
    "duration": 12,
    "start_time": "2023-04-15T12:29:20.175Z"
   },
   {
    "duration": 6,
    "start_time": "2023-04-15T12:30:22.200Z"
   },
   {
    "duration": 8,
    "start_time": "2023-04-15T12:34:35.965Z"
   },
   {
    "duration": 1612,
    "start_time": "2023-04-15T12:35:59.240Z"
   },
   {
    "duration": 359,
    "start_time": "2023-04-15T12:36:40.263Z"
   },
   {
    "duration": 296,
    "start_time": "2023-04-15T12:36:46.334Z"
   },
   {
    "duration": 134,
    "start_time": "2023-04-15T12:38:18.364Z"
   },
   {
    "duration": 276,
    "start_time": "2023-04-15T12:38:40.108Z"
   },
   {
    "duration": 307,
    "start_time": "2023-04-15T12:38:46.722Z"
   },
   {
    "duration": 274,
    "start_time": "2023-04-15T12:38:52.305Z"
   },
   {
    "duration": 139,
    "start_time": "2023-04-15T12:39:07.664Z"
   },
   {
    "duration": 371,
    "start_time": "2023-04-15T12:39:22.730Z"
   },
   {
    "duration": 292,
    "start_time": "2023-04-15T12:39:28.439Z"
   },
   {
    "duration": 291,
    "start_time": "2023-04-15T12:39:32.651Z"
   },
   {
    "duration": 238,
    "start_time": "2023-04-15T12:39:41.540Z"
   },
   {
    "duration": 18,
    "start_time": "2023-04-15T12:45:07.632Z"
   },
   {
    "duration": 18,
    "start_time": "2023-04-15T12:46:23.724Z"
   },
   {
    "duration": 23,
    "start_time": "2023-04-15T12:46:49.637Z"
   },
   {
    "duration": 446,
    "start_time": "2023-04-15T12:47:04.529Z"
   },
   {
    "duration": 16,
    "start_time": "2023-04-15T12:47:05.259Z"
   },
   {
    "duration": 14,
    "start_time": "2023-04-15T12:47:07.158Z"
   },
   {
    "duration": 11,
    "start_time": "2023-04-15T12:47:22.941Z"
   },
   {
    "duration": 2,
    "start_time": "2023-04-15T12:50:01.206Z"
   },
   {
    "duration": 12,
    "start_time": "2023-04-15T12:50:21.302Z"
   },
   {
    "duration": 3,
    "start_time": "2023-04-15T12:51:25.396Z"
   },
   {
    "duration": 50,
    "start_time": "2023-04-15T12:51:27.669Z"
   },
   {
    "duration": 16,
    "start_time": "2023-04-15T12:51:47.266Z"
   },
   {
    "duration": 14,
    "start_time": "2023-04-15T12:51:50.668Z"
   },
   {
    "duration": 4,
    "start_time": "2023-04-15T12:52:03.664Z"
   },
   {
    "duration": 417,
    "start_time": "2023-04-15T12:52:04.649Z"
   },
   {
    "duration": 27,
    "start_time": "2023-04-15T12:52:05.710Z"
   },
   {
    "duration": 14,
    "start_time": "2023-04-15T12:52:07.650Z"
   },
   {
    "duration": 5,
    "start_time": "2023-04-15T12:52:10.298Z"
   },
   {
    "duration": 46,
    "start_time": "2023-04-15T12:52:12.008Z"
   },
   {
    "duration": 106,
    "start_time": "2023-04-15T12:58:46.513Z"
   },
   {
    "duration": 1061,
    "start_time": "2023-04-16T15:38:57.375Z"
   },
   {
    "duration": 885,
    "start_time": "2023-04-16T15:38:58.899Z"
   },
   {
    "duration": 23,
    "start_time": "2023-04-16T15:39:00.123Z"
   },
   {
    "duration": 16,
    "start_time": "2023-04-16T15:39:02.406Z"
   },
   {
    "duration": 6,
    "start_time": "2023-04-16T15:39:03.375Z"
   },
   {
    "duration": 29,
    "start_time": "2023-04-16T15:39:04.738Z"
   },
   {
    "duration": 101,
    "start_time": "2023-04-16T15:45:30.406Z"
   },
   {
    "duration": 405,
    "start_time": "2023-04-16T15:45:52.804Z"
   },
   {
    "duration": 128,
    "start_time": "2023-04-16T15:45:58.981Z"
   },
   {
    "duration": 109,
    "start_time": "2023-04-16T15:46:03.072Z"
   },
   {
    "duration": 177,
    "start_time": "2023-04-16T16:00:46.737Z"
   },
   {
    "duration": 105,
    "start_time": "2023-04-16T16:00:52.993Z"
   },
   {
    "duration": 3,
    "start_time": "2023-04-16T16:07:19.819Z"
   },
   {
    "duration": 108,
    "start_time": "2023-04-16T16:08:01.399Z"
   },
   {
    "duration": 20,
    "start_time": "2023-04-16T16:08:19.908Z"
   },
   {
    "duration": 10,
    "start_time": "2023-04-16T16:08:20.494Z"
   },
   {
    "duration": 2,
    "start_time": "2023-04-16T16:08:22.855Z"
   },
   {
    "duration": 451,
    "start_time": "2023-04-16T16:08:23.962Z"
   },
   {
    "duration": 19,
    "start_time": "2023-04-16T16:08:24.666Z"
   },
   {
    "duration": 13,
    "start_time": "2023-04-16T16:08:26.709Z"
   },
   {
    "duration": 5,
    "start_time": "2023-04-16T16:08:27.909Z"
   },
   {
    "duration": 123,
    "start_time": "2023-04-16T16:08:29.493Z"
   },
   {
    "duration": 20,
    "start_time": "2023-04-16T16:08:46.612Z"
   },
   {
    "duration": 6,
    "start_time": "2023-04-16T16:12:59.403Z"
   },
   {
    "duration": 24,
    "start_time": "2023-04-16T16:13:02.111Z"
   },
   {
    "duration": 1010,
    "start_time": "2023-04-16T16:17:12.723Z"
   },
   {
    "duration": 23,
    "start_time": "2023-04-16T16:17:45.653Z"
   },
   {
    "duration": 20,
    "start_time": "2023-04-16T16:17:49.118Z"
   },
   {
    "duration": 15,
    "start_time": "2023-04-16T16:19:22.750Z"
   },
   {
    "duration": 3,
    "start_time": "2023-04-16T16:25:21.111Z"
   },
   {
    "duration": 213,
    "start_time": "2023-04-16T16:31:08.681Z"
   },
   {
    "duration": 67,
    "start_time": "2023-04-16T16:31:18.434Z"
   },
   {
    "duration": 52,
    "start_time": "2023-04-18T07:45:28.877Z"
   },
   {
    "duration": 8,
    "start_time": "2023-04-18T07:45:32.667Z"
   },
   {
    "duration": 1164,
    "start_time": "2023-04-18T07:45:35.442Z"
   },
   {
    "duration": 818,
    "start_time": "2023-04-18T07:45:38.068Z"
   },
   {
    "duration": 25,
    "start_time": "2023-04-18T07:45:40.017Z"
   },
   {
    "duration": 18,
    "start_time": "2023-04-18T07:45:42.007Z"
   },
   {
    "duration": 6,
    "start_time": "2023-04-18T07:45:44.471Z"
   },
   {
    "duration": 202,
    "start_time": "2023-04-18T07:45:47.399Z"
   },
   {
    "duration": 74,
    "start_time": "2023-04-18T07:49:15.429Z"
   },
   {
    "duration": 66,
    "start_time": "2023-04-18T07:59:05.619Z"
   },
   {
    "duration": 526,
    "start_time": "2023-04-18T07:59:09.612Z"
   },
   {
    "duration": 3181,
    "start_time": "2023-04-18T07:59:11.546Z"
   },
   {
    "duration": 3182,
    "start_time": "2023-04-18T07:59:29.518Z"
   },
   {
    "duration": 3166,
    "start_time": "2023-04-18T08:00:04.010Z"
   },
   {
    "duration": 5,
    "start_time": "2023-04-18T08:00:20.748Z"
   },
   {
    "duration": 3086,
    "start_time": "2023-04-18T08:00:22.572Z"
   },
   {
    "duration": 271,
    "start_time": "2023-04-18T08:18:25.031Z"
   },
   {
    "duration": 154,
    "start_time": "2023-04-18T08:18:29.935Z"
   },
   {
    "duration": 32,
    "start_time": "2023-04-18T08:20:22.123Z"
   },
   {
    "duration": 424,
    "start_time": "2023-04-18T08:20:35.483Z"
   },
   {
    "duration": 422,
    "start_time": "2023-04-18T08:21:04.083Z"
   },
   {
    "duration": 367,
    "start_time": "2023-04-18T08:30:46.221Z"
   },
   {
    "duration": 9,
    "start_time": "2023-04-18T08:40:37.464Z"
   },
   {
    "duration": 3,
    "start_time": "2023-04-18T08:40:44.841Z"
   },
   {
    "duration": 4,
    "start_time": "2023-04-18T08:41:02.571Z"
   },
   {
    "duration": 5,
    "start_time": "2023-04-18T08:41:36.533Z"
   },
   {
    "duration": 4,
    "start_time": "2023-04-18T08:41:45.614Z"
   },
   {
    "duration": 395,
    "start_time": "2023-04-18T08:44:41.312Z"
   },
   {
    "duration": 413,
    "start_time": "2023-04-18T08:44:54.984Z"
   },
   {
    "duration": 604,
    "start_time": "2023-04-18T08:59:30.418Z"
   },
   {
    "duration": 388,
    "start_time": "2023-04-18T08:59:47.717Z"
   },
   {
    "duration": 448,
    "start_time": "2023-04-18T09:12:08.257Z"
   },
   {
    "duration": 13,
    "start_time": "2023-04-18T09:20:04.770Z"
   },
   {
    "duration": 21,
    "start_time": "2023-04-18T09:20:26.310Z"
   },
   {
    "duration": 21,
    "start_time": "2023-04-18T09:20:35.535Z"
   },
   {
    "duration": 25,
    "start_time": "2023-04-18T09:21:25.577Z"
   },
   {
    "duration": 2295,
    "start_time": "2023-04-18T09:21:29.677Z"
   },
   {
    "duration": 19,
    "start_time": "2023-04-18T09:21:45.024Z"
   },
   {
    "duration": 428,
    "start_time": "2023-04-18T09:21:55.309Z"
   },
   {
    "duration": 32,
    "start_time": "2023-04-18T09:21:56.884Z"
   },
   {
    "duration": 49,
    "start_time": "2023-04-18T09:22:00.929Z"
   },
   {
    "duration": 45,
    "start_time": "2023-04-18T09:22:31.836Z"
   },
   {
    "duration": 31,
    "start_time": "2023-04-18T09:22:35.622Z"
   },
   {
    "duration": 31,
    "start_time": "2023-04-18T09:22:40.013Z"
   },
   {
    "duration": 22,
    "start_time": "2023-04-18T09:22:48.259Z"
   },
   {
    "duration": 67,
    "start_time": "2023-04-18T09:30:50.547Z"
   },
   {
    "duration": 86,
    "start_time": "2023-04-18T09:32:09.329Z"
   },
   {
    "duration": 30,
    "start_time": "2023-04-18T09:32:21.882Z"
   },
   {
    "duration": 13,
    "start_time": "2023-04-18T09:32:24.621Z"
   },
   {
    "duration": 5,
    "start_time": "2023-04-18T09:32:26.228Z"
   },
   {
    "duration": 84,
    "start_time": "2023-04-18T09:32:27.725Z"
   },
   {
    "duration": 434,
    "start_time": "2023-04-18T09:32:31.374Z"
   },
   {
    "duration": 5,
    "start_time": "2023-04-18T10:24:56.156Z"
   },
   {
    "duration": 5,
    "start_time": "2023-04-18T10:26:04.182Z"
   },
   {
    "duration": 7,
    "start_time": "2023-04-18T10:26:15.013Z"
   },
   {
    "duration": 8,
    "start_time": "2023-04-18T10:39:08.350Z"
   },
   {
    "duration": 7,
    "start_time": "2023-04-18T10:39:16.144Z"
   },
   {
    "duration": 8,
    "start_time": "2023-04-18T10:40:10.650Z"
   },
   {
    "duration": 98,
    "start_time": "2023-04-18T14:52:33.316Z"
   },
   {
    "duration": 3,
    "start_time": "2023-04-18T14:54:49.514Z"
   },
   {
    "duration": 20,
    "start_time": "2023-04-18T14:55:37.417Z"
   },
   {
    "duration": 189,
    "start_time": "2023-04-18T14:58:38.014Z"
   },
   {
    "duration": 434,
    "start_time": "2023-04-18T15:05:47.179Z"
   },
   {
    "duration": 11,
    "start_time": "2023-04-18T15:08:29.181Z"
   },
   {
    "duration": 4,
    "start_time": "2023-04-18T15:09:17.834Z"
   },
   {
    "duration": 4,
    "start_time": "2023-04-18T15:09:24.617Z"
   },
   {
    "duration": 4,
    "start_time": "2023-04-18T15:09:46.753Z"
   },
   {
    "duration": 4,
    "start_time": "2023-04-18T15:10:16.440Z"
   },
   {
    "duration": 6,
    "start_time": "2023-04-18T15:11:19.325Z"
   },
   {
    "duration": 14,
    "start_time": "2023-04-18T15:13:36.667Z"
   },
   {
    "duration": 5,
    "start_time": "2023-04-18T15:14:02.692Z"
   },
   {
    "duration": 7,
    "start_time": "2023-04-18T15:14:04.660Z"
   },
   {
    "duration": 10,
    "start_time": "2023-04-18T15:14:10.159Z"
   },
   {
    "duration": 5,
    "start_time": "2023-04-18T15:14:15.531Z"
   },
   {
    "duration": 9,
    "start_time": "2023-04-18T15:14:20.831Z"
   },
   {
    "duration": 4,
    "start_time": "2023-04-18T15:18:37.522Z"
   },
   {
    "duration": 3,
    "start_time": "2023-04-18T15:20:04.521Z"
   },
   {
    "duration": 3,
    "start_time": "2023-04-18T15:20:08.030Z"
   },
   {
    "duration": 4,
    "start_time": "2023-04-18T15:20:10.242Z"
   },
   {
    "duration": 6,
    "start_time": "2023-04-18T15:23:11.714Z"
   },
   {
    "duration": 7,
    "start_time": "2023-04-18T15:23:20.117Z"
   },
   {
    "duration": 81,
    "start_time": "2023-04-18T15:24:00.314Z"
   },
   {
    "duration": 7,
    "start_time": "2023-04-18T15:24:10.366Z"
   },
   {
    "duration": 3,
    "start_time": "2023-04-18T15:24:22.446Z"
   },
   {
    "duration": 8,
    "start_time": "2023-04-18T15:24:24.358Z"
   },
   {
    "duration": 4,
    "start_time": "2023-04-18T15:51:29.333Z"
   },
   {
    "duration": 15,
    "start_time": "2023-04-18T15:51:30.551Z"
   },
   {
    "duration": 13,
    "start_time": "2023-04-18T15:51:46.762Z"
   },
   {
    "duration": 7,
    "start_time": "2023-04-18T15:51:50.932Z"
   },
   {
    "duration": 4,
    "start_time": "2023-04-18T15:51:56.947Z"
   },
   {
    "duration": 12,
    "start_time": "2023-04-18T15:51:58.822Z"
   },
   {
    "duration": 6,
    "start_time": "2023-04-18T15:52:08.903Z"
   },
   {
    "duration": 11,
    "start_time": "2023-04-18T15:52:10.532Z"
   },
   {
    "duration": 4,
    "start_time": "2023-04-18T15:57:44.627Z"
   },
   {
    "duration": 55,
    "start_time": "2023-04-18T15:59:38.021Z"
   },
   {
    "duration": 58,
    "start_time": "2023-04-18T16:00:17.018Z"
   },
   {
    "duration": 55,
    "start_time": "2023-04-18T16:01:17.106Z"
   },
   {
    "duration": 67,
    "start_time": "2023-04-18T16:01:29.152Z"
   },
   {
    "duration": 108,
    "start_time": "2023-04-18T16:27:43.126Z"
   },
   {
    "duration": 1580,
    "start_time": "2023-04-19T11:32:55.553Z"
   },
   {
    "duration": 1735,
    "start_time": "2023-04-19T11:32:57.234Z"
   },
   {
    "duration": 25,
    "start_time": "2023-04-19T11:32:58.971Z"
   },
   {
    "duration": 19,
    "start_time": "2023-04-19T11:33:09.770Z"
   },
   {
    "duration": 5,
    "start_time": "2023-04-19T11:33:11.264Z"
   },
   {
    "duration": 266,
    "start_time": "2023-04-19T11:33:12.608Z"
   },
   {
    "duration": 393,
    "start_time": "2023-04-19T11:33:16.872Z"
   },
   {
    "duration": 5,
    "start_time": "2023-04-19T11:33:39.870Z"
   },
   {
    "duration": 4,
    "start_time": "2023-04-19T11:34:00.369Z"
   },
   {
    "duration": 10,
    "start_time": "2023-04-19T11:34:01.433Z"
   },
   {
    "duration": 3,
    "start_time": "2023-04-19T11:34:03.366Z"
   },
   {
    "duration": 52,
    "start_time": "2023-04-19T11:34:04.534Z"
   },
   {
    "duration": 60,
    "start_time": "2023-04-19T11:36:24.756Z"
   },
   {
    "duration": 49,
    "start_time": "2023-04-19T11:36:33.300Z"
   },
   {
    "duration": 53,
    "start_time": "2023-04-19T11:36:35.907Z"
   },
   {
    "duration": 4,
    "start_time": "2023-04-19T11:41:02.825Z"
   },
   {
    "duration": 51,
    "start_time": "2023-04-19T11:41:03.760Z"
   },
   {
    "duration": 3,
    "start_time": "2023-04-19T11:42:38.972Z"
   },
   {
    "duration": 124,
    "start_time": "2023-04-19T11:43:02.073Z"
   },
   {
    "duration": 5,
    "start_time": "2023-04-19T11:43:05.003Z"
   },
   {
    "duration": 49,
    "start_time": "2023-04-19T11:45:24.737Z"
   },
   {
    "duration": 3,
    "start_time": "2023-04-19T11:50:35.408Z"
   },
   {
    "duration": 14,
    "start_time": "2023-04-19T11:51:40.893Z"
   },
   {
    "duration": 3,
    "start_time": "2023-04-19T11:52:06.479Z"
   },
   {
    "duration": 13,
    "start_time": "2023-04-19T11:52:08.572Z"
   },
   {
    "duration": 8,
    "start_time": "2023-04-19T11:54:44.908Z"
   },
   {
    "duration": 34,
    "start_time": "2023-04-19T11:54:46.073Z"
   },
   {
    "duration": 14,
    "start_time": "2023-04-19T12:03:51.084Z"
   },
   {
    "duration": 6,
    "start_time": "2023-04-19T12:05:07.515Z"
   },
   {
    "duration": 8,
    "start_time": "2023-04-19T12:05:12.786Z"
   },
   {
    "duration": 7,
    "start_time": "2023-04-19T12:05:23.735Z"
   },
   {
    "duration": 13,
    "start_time": "2023-04-19T12:05:44.904Z"
   },
   {
    "duration": 7,
    "start_time": "2023-04-19T12:05:56.806Z"
   },
   {
    "duration": 6,
    "start_time": "2023-04-19T12:06:00.780Z"
   },
   {
    "duration": 8,
    "start_time": "2023-04-19T12:06:06.312Z"
   },
   {
    "duration": 6,
    "start_time": "2023-04-19T12:06:28.879Z"
   },
   {
    "duration": 147,
    "start_time": "2023-04-19T12:08:41.521Z"
   },
   {
    "duration": 197,
    "start_time": "2023-04-19T12:09:29.266Z"
   },
   {
    "duration": 191,
    "start_time": "2023-04-19T12:11:36.571Z"
   },
   {
    "duration": 342,
    "start_time": "2023-04-19T12:11:58.835Z"
   },
   {
    "duration": 38,
    "start_time": "2023-04-19T12:15:05.293Z"
   },
   {
    "duration": 104,
    "start_time": "2023-04-19T12:16:17.962Z"
   },
   {
    "duration": 32,
    "start_time": "2023-04-19T12:16:24.091Z"
   },
   {
    "duration": 91,
    "start_time": "2023-04-19T12:16:32.176Z"
   },
   {
    "duration": 83,
    "start_time": "2023-04-19T12:16:50.377Z"
   },
   {
    "duration": 69,
    "start_time": "2023-04-19T12:18:28.893Z"
   },
   {
    "duration": 85,
    "start_time": "2023-04-19T12:18:41.980Z"
   },
   {
    "duration": 178,
    "start_time": "2023-04-19T12:19:23.881Z"
   },
   {
    "duration": 130,
    "start_time": "2023-04-19T12:19:33.834Z"
   },
   {
    "duration": 90,
    "start_time": "2023-04-19T12:19:43.371Z"
   },
   {
    "duration": 105,
    "start_time": "2023-04-19T12:20:07.756Z"
   },
   {
    "duration": 3,
    "start_time": "2023-04-19T12:21:06.625Z"
   },
   {
    "duration": 9,
    "start_time": "2023-04-19T12:21:17.534Z"
   },
   {
    "duration": 341,
    "start_time": "2023-04-19T12:22:31.932Z"
   },
   {
    "duration": 342,
    "start_time": "2023-04-19T12:22:39.628Z"
   },
   {
    "duration": 7,
    "start_time": "2023-04-19T12:22:45.701Z"
   },
   {
    "duration": 8,
    "start_time": "2023-04-19T12:22:48.819Z"
   },
   {
    "duration": 16,
    "start_time": "2023-04-19T12:23:18.838Z"
   },
   {
    "duration": 15,
    "start_time": "2023-04-19T12:23:28.792Z"
   },
   {
    "duration": 16,
    "start_time": "2023-04-19T12:23:30.034Z"
   },
   {
    "duration": 3,
    "start_time": "2023-04-19T12:23:43.392Z"
   },
   {
    "duration": 17,
    "start_time": "2023-04-19T12:24:26.986Z"
   },
   {
    "duration": 5,
    "start_time": "2023-04-19T12:24:45.232Z"
   },
   {
    "duration": 24,
    "start_time": "2023-04-19T12:24:46.321Z"
   },
   {
    "duration": 5,
    "start_time": "2023-04-19T12:41:02.594Z"
   },
   {
    "duration": 712,
    "start_time": "2023-04-19T12:41:03.694Z"
   },
   {
    "duration": 667,
    "start_time": "2023-04-19T12:59:17.948Z"
   },
   {
    "duration": 677,
    "start_time": "2023-04-19T12:59:22.277Z"
   },
   {
    "duration": 8,
    "start_time": "2023-04-19T13:05:33.490Z"
   },
   {
    "duration": 8,
    "start_time": "2023-04-19T13:10:56.293Z"
   },
   {
    "duration": 6,
    "start_time": "2023-04-19T13:12:12.524Z"
   },
   {
    "duration": 3,
    "start_time": "2023-04-19T13:12:13.984Z"
   },
   {
    "duration": 15,
    "start_time": "2023-04-19T13:12:14.998Z"
   },
   {
    "duration": 3,
    "start_time": "2023-04-19T13:12:24.249Z"
   },
   {
    "duration": 18,
    "start_time": "2023-04-19T13:12:25.403Z"
   },
   {
    "duration": 673,
    "start_time": "2023-04-19T13:12:43.137Z"
   },
   {
    "duration": 634,
    "start_time": "2023-04-19T13:12:48.995Z"
   },
   {
    "duration": 693,
    "start_time": "2023-04-19T13:12:52.650Z"
   },
   {
    "duration": 6,
    "start_time": "2023-04-19T13:14:20.395Z"
   },
   {
    "duration": 3,
    "start_time": "2023-04-19T13:14:31.290Z"
   },
   {
    "duration": 15,
    "start_time": "2023-04-19T13:14:32.456Z"
   },
   {
    "duration": 9,
    "start_time": "2023-04-19T13:22:22.659Z"
   },
   {
    "duration": 4,
    "start_time": "2023-04-19T13:22:46.522Z"
   },
   {
    "duration": 19,
    "start_time": "2023-04-19T13:22:48.784Z"
   },
   {
    "duration": 3,
    "start_time": "2023-04-19T13:23:08.493Z"
   },
   {
    "duration": 14,
    "start_time": "2023-04-19T13:23:09.226Z"
   },
   {
    "duration": 405,
    "start_time": "2023-04-19T13:33:17.768Z"
   },
   {
    "duration": 6,
    "start_time": "2023-04-19T13:38:12.376Z"
   },
   {
    "duration": 6,
    "start_time": "2023-04-19T13:38:28.679Z"
   },
   {
    "duration": 7,
    "start_time": "2023-04-19T13:39:01.004Z"
   },
   {
    "duration": 6,
    "start_time": "2023-04-19T13:39:08.596Z"
   },
   {
    "duration": 4,
    "start_time": "2023-04-19T13:39:28.110Z"
   },
   {
    "duration": 396,
    "start_time": "2023-04-19T13:39:29.107Z"
   },
   {
    "duration": 22,
    "start_time": "2023-04-19T13:39:29.505Z"
   },
   {
    "duration": 16,
    "start_time": "2023-04-19T13:39:30.972Z"
   },
   {
    "duration": 4,
    "start_time": "2023-04-19T13:39:32.088Z"
   },
   {
    "duration": 196,
    "start_time": "2023-04-19T13:39:32.774Z"
   },
   {
    "duration": 459,
    "start_time": "2023-04-19T13:39:34.507Z"
   },
   {
    "duration": 8,
    "start_time": "2023-04-19T13:39:36.810Z"
   },
   {
    "duration": 5,
    "start_time": "2023-04-19T13:51:58.470Z"
   },
   {
    "duration": 7,
    "start_time": "2023-04-19T13:52:31.280Z"
   },
   {
    "duration": 691,
    "start_time": "2023-04-19T13:56:51.218Z"
   },
   {
    "duration": 679,
    "start_time": "2023-04-19T13:57:27.383Z"
   },
   {
    "duration": 640,
    "start_time": "2023-04-19T13:57:47.888Z"
   },
   {
    "duration": 663,
    "start_time": "2023-04-19T13:57:53.310Z"
   },
   {
    "duration": 657,
    "start_time": "2023-04-19T13:58:42.123Z"
   },
   {
    "duration": 5,
    "start_time": "2023-04-19T13:58:43.612Z"
   },
   {
    "duration": 650,
    "start_time": "2023-04-19T13:58:44.243Z"
   },
   {
    "duration": 633,
    "start_time": "2023-04-19T13:58:48.691Z"
   },
   {
    "duration": 4,
    "start_time": "2023-04-19T13:58:53.472Z"
   },
   {
    "duration": 673,
    "start_time": "2023-04-19T13:58:54.235Z"
   },
   {
    "duration": 673,
    "start_time": "2023-04-19T13:58:59.733Z"
   },
   {
    "duration": 673,
    "start_time": "2023-04-19T13:59:02.570Z"
   },
   {
    "duration": 633,
    "start_time": "2023-04-19T13:59:05.194Z"
   },
   {
    "duration": 623,
    "start_time": "2023-04-19T13:59:07.123Z"
   },
   {
    "duration": 653,
    "start_time": "2023-04-19T13:59:10.802Z"
   },
   {
    "duration": 668,
    "start_time": "2023-04-19T13:59:26.018Z"
   },
   {
    "duration": 661,
    "start_time": "2023-04-19T13:59:28.553Z"
   },
   {
    "duration": 3,
    "start_time": "2023-04-19T13:59:41.697Z"
   },
   {
    "duration": 14,
    "start_time": "2023-04-19T13:59:42.337Z"
   },
   {
    "duration": 4,
    "start_time": "2023-04-19T13:59:54.952Z"
   },
   {
    "duration": 652,
    "start_time": "2023-04-19T13:59:58.572Z"
   },
   {
    "duration": 4,
    "start_time": "2023-04-19T14:02:55.748Z"
   },
   {
    "duration": 357,
    "start_time": "2023-04-19T14:05:28.221Z"
   },
   {
    "duration": 21,
    "start_time": "2023-04-19T14:05:32.300Z"
   },
   {
    "duration": 27,
    "start_time": "2023-04-19T14:05:50.374Z"
   },
   {
    "duration": 18,
    "start_time": "2023-04-19T14:06:56.965Z"
   },
   {
    "duration": 4,
    "start_time": "2023-04-19T14:08:09.337Z"
   },
   {
    "duration": 29,
    "start_time": "2023-04-19T14:08:11.319Z"
   },
   {
    "duration": 51,
    "start_time": "2023-04-19T14:09:31.653Z"
   },
   {
    "duration": 10,
    "start_time": "2023-04-19T14:13:46.510Z"
   },
   {
    "duration": 111,
    "start_time": "2023-04-19T14:22:01.879Z"
   },
   {
    "duration": 150,
    "start_time": "2023-04-19T14:22:22.970Z"
   },
   {
    "duration": 283,
    "start_time": "2023-04-19T14:22:36.253Z"
   },
   {
    "duration": 485,
    "start_time": "2023-04-19T14:23:58.942Z"
   },
   {
    "duration": 449,
    "start_time": "2023-04-19T14:24:13.872Z"
   },
   {
    "duration": 488,
    "start_time": "2023-04-19T14:24:17.494Z"
   },
   {
    "duration": 559,
    "start_time": "2023-04-19T14:24:24.569Z"
   },
   {
    "duration": 6,
    "start_time": "2023-04-19T14:25:19.588Z"
   },
   {
    "duration": 4,
    "start_time": "2023-04-19T14:25:23.069Z"
   },
   {
    "duration": 88,
    "start_time": "2023-04-19T14:25:24.884Z"
   },
   {
    "duration": 462,
    "start_time": "2023-04-19T14:26:27.001Z"
   },
   {
    "duration": 402,
    "start_time": "2023-04-19T14:27:46.368Z"
   },
   {
    "duration": 471,
    "start_time": "2023-04-19T14:28:18.197Z"
   },
   {
    "duration": 390,
    "start_time": "2023-04-19T17:36:39.571Z"
   },
   {
    "duration": 9,
    "start_time": "2023-04-19T17:39:48.469Z"
   },
   {
    "duration": 3,
    "start_time": "2023-04-19T17:46:55.564Z"
   },
   {
    "duration": 3,
    "start_time": "2023-04-19T17:47:34.033Z"
   },
   {
    "duration": 14,
    "start_time": "2023-04-19T17:48:05.794Z"
   },
   {
    "duration": 680,
    "start_time": "2023-04-19T17:48:14.413Z"
   },
   {
    "duration": 4,
    "start_time": "2023-04-19T17:50:42.268Z"
   },
   {
    "duration": 672,
    "start_time": "2023-04-19T17:50:42.883Z"
   },
   {
    "duration": 4,
    "start_time": "2023-04-19T17:50:56.880Z"
   },
   {
    "duration": 680,
    "start_time": "2023-04-19T17:50:57.761Z"
   },
   {
    "duration": 4,
    "start_time": "2023-04-19T17:51:51.169Z"
   },
   {
    "duration": 676,
    "start_time": "2023-04-19T17:51:51.673Z"
   },
   {
    "duration": 684,
    "start_time": "2023-04-19T17:53:22.414Z"
   },
   {
    "duration": 664,
    "start_time": "2023-04-19T17:54:13.161Z"
   },
   {
    "duration": 655,
    "start_time": "2023-04-19T17:54:17.828Z"
   },
   {
    "duration": 687,
    "start_time": "2023-04-19T17:54:23.791Z"
   },
   {
    "duration": 670,
    "start_time": "2023-04-19T17:54:51.105Z"
   },
   {
    "duration": 689,
    "start_time": "2023-04-19T17:57:02.776Z"
   },
   {
    "duration": 649,
    "start_time": "2023-04-19T17:57:13.613Z"
   },
   {
    "duration": 682,
    "start_time": "2023-04-19T17:57:22.373Z"
   },
   {
    "duration": 666,
    "start_time": "2023-04-19T17:57:27.548Z"
   },
   {
    "duration": 642,
    "start_time": "2023-04-19T17:57:56.692Z"
   },
   {
    "duration": 672,
    "start_time": "2023-04-19T17:58:03.702Z"
   },
   {
    "duration": 673,
    "start_time": "2023-04-19T17:58:06.488Z"
   },
   {
    "duration": 663,
    "start_time": "2023-04-19T17:58:08.541Z"
   },
   {
    "duration": 665,
    "start_time": "2023-04-19T17:58:11.271Z"
   },
   {
    "duration": 668,
    "start_time": "2023-04-19T17:58:13.548Z"
   },
   {
    "duration": 754,
    "start_time": "2023-04-19T17:58:15.473Z"
   },
   {
    "duration": 661,
    "start_time": "2023-04-19T17:58:19.841Z"
   },
   {
    "duration": 640,
    "start_time": "2023-04-19T17:58:21.653Z"
   },
   {
    "duration": 658,
    "start_time": "2023-04-19T17:58:23.467Z"
   },
   {
    "duration": 673,
    "start_time": "2023-04-19T17:58:25.412Z"
   },
   {
    "duration": 663,
    "start_time": "2023-04-19T17:58:27.173Z"
   },
   {
    "duration": 689,
    "start_time": "2023-04-19T17:58:29.684Z"
   },
   {
    "duration": 656,
    "start_time": "2023-04-19T17:58:41.788Z"
   },
   {
    "duration": 668,
    "start_time": "2023-04-19T17:58:46.291Z"
   },
   {
    "duration": 666,
    "start_time": "2023-04-19T17:58:48.386Z"
   },
   {
    "duration": 642,
    "start_time": "2023-04-19T17:58:50.499Z"
   },
   {
    "duration": 1972,
    "start_time": "2023-04-19T17:59:52.097Z"
   },
   {
    "duration": 2029,
    "start_time": "2023-04-19T18:00:04.353Z"
   },
   {
    "duration": 2045,
    "start_time": "2023-04-19T18:00:09.097Z"
   },
   {
    "duration": 2229,
    "start_time": "2023-04-19T18:00:14.842Z"
   },
   {
    "duration": 2122,
    "start_time": "2023-04-19T18:00:19.648Z"
   },
   {
    "duration": 2199,
    "start_time": "2023-04-19T18:03:29.442Z"
   },
   {
    "duration": 2120,
    "start_time": "2023-04-19T18:04:34.633Z"
   },
   {
    "duration": 4,
    "start_time": "2023-04-19T18:06:31.763Z"
   },
   {
    "duration": 2094,
    "start_time": "2023-04-19T18:06:33.380Z"
   },
   {
    "duration": 2146,
    "start_time": "2023-04-19T18:07:48.344Z"
   },
   {
    "duration": 17,
    "start_time": "2023-04-19T18:10:43.141Z"
   },
   {
    "duration": 8,
    "start_time": "2023-04-19T18:10:46.870Z"
   },
   {
    "duration": 2135,
    "start_time": "2023-04-19T18:10:48.944Z"
   },
   {
    "duration": 2214,
    "start_time": "2023-04-19T18:14:22.778Z"
   },
   {
    "duration": 2121,
    "start_time": "2023-04-19T18:17:55.730Z"
   },
   {
    "duration": 2128,
    "start_time": "2023-04-19T18:19:47.136Z"
   },
   {
    "duration": 2150,
    "start_time": "2023-04-19T18:21:20.228Z"
   },
   {
    "duration": 2206,
    "start_time": "2023-04-19T18:22:36.819Z"
   },
   {
    "duration": 2193,
    "start_time": "2023-04-19T18:23:42.639Z"
   },
   {
    "duration": 3,
    "start_time": "2023-04-19T18:28:47.423Z"
   },
   {
    "duration": 360,
    "start_time": "2023-04-19T18:28:48.540Z"
   },
   {
    "duration": 56,
    "start_time": "2023-04-19T18:28:49.331Z"
   },
   {
    "duration": 12,
    "start_time": "2023-04-19T18:28:53.636Z"
   },
   {
    "duration": 4,
    "start_time": "2023-04-19T18:28:55.085Z"
   },
   {
    "duration": 129,
    "start_time": "2023-04-19T18:28:55.931Z"
   },
   {
    "duration": 399,
    "start_time": "2023-04-19T18:28:57.781Z"
   },
   {
    "duration": 7,
    "start_time": "2023-04-19T18:29:00.702Z"
   },
   {
    "duration": 127,
    "start_time": "2023-04-19T18:29:16.745Z"
   },
   {
    "duration": 7,
    "start_time": "2023-04-19T18:29:21.092Z"
   },
   {
    "duration": 3,
    "start_time": "2023-04-19T18:29:23.320Z"
   },
   {
    "duration": 4,
    "start_time": "2023-04-19T18:29:24.446Z"
   },
   {
    "duration": 2193,
    "start_time": "2023-04-19T18:29:26.506Z"
   },
   {
    "duration": 2675,
    "start_time": "2023-04-19T18:55:10.645Z"
   },
   {
    "duration": 576,
    "start_time": "2023-04-19T18:55:13.324Z"
   },
   {
    "duration": 80,
    "start_time": "2023-04-19T18:55:13.903Z"
   },
   {
    "duration": 34,
    "start_time": "2023-04-19T18:55:13.985Z"
   },
   {
    "duration": 11,
    "start_time": "2023-04-19T18:55:14.021Z"
   },
   {
    "duration": 281,
    "start_time": "2023-04-19T18:55:14.034Z"
   },
   {
    "duration": 452,
    "start_time": "2023-04-19T18:55:14.413Z"
   },
   {
    "duration": 42,
    "start_time": "2023-04-19T18:55:14.916Z"
   },
   {
    "duration": 7,
    "start_time": "2023-04-19T18:55:15.014Z"
   },
   {
    "duration": 30,
    "start_time": "2023-04-19T18:55:15.027Z"
   },
   {
    "duration": 23,
    "start_time": "2023-04-19T18:55:15.061Z"
   },
   {
    "duration": 262,
    "start_time": "2023-04-19T18:55:15.086Z"
   },
   {
    "duration": 4,
    "start_time": "2023-04-19T18:56:56.119Z"
   },
   {
    "duration": 6,
    "start_time": "2023-04-19T18:57:02.848Z"
   },
   {
    "duration": 2728,
    "start_time": "2023-04-19T18:57:04.931Z"
   },
   {
    "duration": 2858,
    "start_time": "2023-04-19T18:57:28.340Z"
   },
   {
    "duration": 629,
    "start_time": "2023-04-19T18:57:31.201Z"
   },
   {
    "duration": 82,
    "start_time": "2023-04-19T18:57:31.844Z"
   },
   {
    "duration": 20,
    "start_time": "2023-04-19T18:57:31.928Z"
   },
   {
    "duration": 20,
    "start_time": "2023-04-19T18:57:31.952Z"
   },
   {
    "duration": 341,
    "start_time": "2023-04-19T18:57:31.974Z"
   },
   {
    "duration": 522,
    "start_time": "2023-04-19T18:57:32.326Z"
   },
   {
    "duration": 55,
    "start_time": "2023-04-19T18:57:32.873Z"
   },
   {
    "duration": 10,
    "start_time": "2023-04-19T18:57:32.930Z"
   },
   {
    "duration": 39,
    "start_time": "2023-04-19T18:57:32.942Z"
   },
   {
    "duration": 24,
    "start_time": "2023-04-19T18:57:32.983Z"
   },
   {
    "duration": 219,
    "start_time": "2023-04-19T18:57:33.009Z"
   },
   {
    "duration": 5,
    "start_time": "2023-04-19T19:15:48.032Z"
   },
   {
    "duration": 5,
    "start_time": "2023-04-19T19:15:52.630Z"
   },
   {
    "duration": 2434,
    "start_time": "2023-04-19T19:15:55.561Z"
   },
   {
    "duration": 2221,
    "start_time": "2023-04-19T19:17:19.398Z"
   },
   {
    "duration": 2159,
    "start_time": "2023-04-19T19:17:47.016Z"
   },
   {
    "duration": 2271,
    "start_time": "2023-04-19T19:18:12.739Z"
   },
   {
    "duration": 1687,
    "start_time": "2023-04-19T19:18:15.012Z"
   },
   {
    "duration": 54,
    "start_time": "2023-04-19T19:18:16.701Z"
   },
   {
    "duration": 17,
    "start_time": "2023-04-19T19:18:16.757Z"
   },
   {
    "duration": 10,
    "start_time": "2023-04-19T19:18:16.776Z"
   },
   {
    "duration": 229,
    "start_time": "2023-04-19T19:18:16.787Z"
   },
   {
    "duration": 595,
    "start_time": "2023-04-19T19:18:17.018Z"
   },
   {
    "duration": 9,
    "start_time": "2023-04-19T19:18:17.615Z"
   },
   {
    "duration": 87,
    "start_time": "2023-04-19T19:18:17.626Z"
   },
   {
    "duration": 5,
    "start_time": "2023-04-19T19:18:17.716Z"
   },
   {
    "duration": 11,
    "start_time": "2023-04-19T19:18:17.723Z"
   },
   {
    "duration": 136,
    "start_time": "2023-04-19T19:18:17.736Z"
   },
   {
    "duration": 82,
    "start_time": "2023-04-19T20:52:36.304Z"
   },
   {
    "duration": 1741,
    "start_time": "2023-04-19T20:52:39.944Z"
   },
   {
    "duration": 1167,
    "start_time": "2023-04-19T20:52:41.689Z"
   },
   {
    "duration": 57,
    "start_time": "2023-04-19T20:52:42.858Z"
   },
   {
    "duration": 41,
    "start_time": "2023-04-19T20:52:42.917Z"
   },
   {
    "duration": 18,
    "start_time": "2023-04-19T20:52:42.964Z"
   },
   {
    "duration": 263,
    "start_time": "2023-04-19T20:52:42.984Z"
   },
   {
    "duration": 505,
    "start_time": "2023-04-19T20:52:43.254Z"
   },
   {
    "duration": 89,
    "start_time": "2023-04-19T20:52:43.831Z"
   },
   {
    "duration": 41,
    "start_time": "2023-04-19T20:52:43.923Z"
   },
   {
    "duration": 34,
    "start_time": "2023-04-19T20:52:43.967Z"
   },
   {
    "duration": 47,
    "start_time": "2023-04-19T20:52:44.003Z"
   },
   {
    "duration": 118,
    "start_time": "2023-04-19T20:52:44.052Z"
   },
   {
    "duration": 36,
    "start_time": "2023-04-19T20:52:56.307Z"
   },
   {
    "duration": 55,
    "start_time": "2023-04-20T06:28:49.174Z"
   },
   {
    "duration": 1850,
    "start_time": "2023-04-20T06:28:56.670Z"
   },
   {
    "duration": 1052,
    "start_time": "2023-04-20T06:29:00.039Z"
   },
   {
    "duration": 75,
    "start_time": "2023-04-20T06:29:01.094Z"
   },
   {
    "duration": 18,
    "start_time": "2023-04-20T06:29:03.844Z"
   },
   {
    "duration": 7,
    "start_time": "2023-04-20T06:29:06.181Z"
   },
   {
    "duration": 203,
    "start_time": "2023-04-20T06:29:07.110Z"
   },
   {
    "duration": 4,
    "start_time": "2023-04-20T06:30:51.683Z"
   },
   {
    "duration": 496,
    "start_time": "2023-04-20T06:31:15.298Z"
   },
   {
    "duration": 10,
    "start_time": "2023-04-20T06:31:55.553Z"
   },
   {
    "duration": 5,
    "start_time": "2023-04-20T06:33:02.332Z"
   },
   {
    "duration": 4,
    "start_time": "2023-04-20T06:33:04.117Z"
   },
   {
    "duration": 6,
    "start_time": "2023-04-20T06:33:06.104Z"
   },
   {
    "duration": 3728,
    "start_time": "2023-04-20T06:33:09.200Z"
   },
   {
    "duration": 2007,
    "start_time": "2023-04-20T06:33:45.327Z"
   },
   {
    "duration": 608,
    "start_time": "2023-04-20T06:33:47.337Z"
   },
   {
    "duration": 105,
    "start_time": "2023-04-20T06:33:47.947Z"
   },
   {
    "duration": 38,
    "start_time": "2023-04-20T06:33:48.055Z"
   },
   {
    "duration": 11,
    "start_time": "2023-04-20T06:33:48.096Z"
   },
   {
    "duration": 485,
    "start_time": "2023-04-20T06:33:48.110Z"
   },
   {
    "duration": 93,
    "start_time": "2023-04-20T06:33:48.598Z"
   },
   {
    "duration": 7,
    "start_time": "2023-04-20T06:33:48.694Z"
   },
   {
    "duration": 8,
    "start_time": "2023-04-20T06:33:48.704Z"
   },
   {
    "duration": 5,
    "start_time": "2023-04-20T06:33:48.715Z"
   },
   {
    "duration": 3667,
    "start_time": "2023-04-20T06:33:48.722Z"
   }
  ],
  "kernelspec": {
   "display_name": "Python 3 (ipykernel)",
   "language": "python",
   "name": "python3"
  },
  "language_info": {
   "codemirror_mode": {
    "name": "ipython",
    "version": 3
   },
   "file_extension": ".py",
   "mimetype": "text/x-python",
   "name": "python",
   "nbconvert_exporter": "python",
   "pygments_lexer": "ipython3",
   "version": "3.9.15"
  },
  "toc": {
   "base_numbering": 1,
   "nav_menu": {},
   "number_sections": true,
   "sideBar": true,
   "skip_h1_title": true,
   "title_cell": "Table of Contents",
   "title_sidebar": "Contents",
   "toc_cell": false,
   "toc_position": {
    "height": "calc(100% - 180px)",
    "left": "10px",
    "top": "150px",
    "width": "165px"
   },
   "toc_section_display": true,
   "toc_window_display": true
  }
 },
 "nbformat": 4,
 "nbformat_minor": 4
}
